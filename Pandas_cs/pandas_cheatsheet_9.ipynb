{
 "cells": [
  {
   "cell_type": "code",
   "execution_count": null,
   "metadata": {},
   "outputs": [],
   "source": [
    "###Input and Output"
   ]
  },
  {
   "cell_type": "code",
   "execution_count": 1,
   "metadata": {},
   "outputs": [],
   "source": [
    "import pandas as pd"
   ]
  },
  {
   "cell_type": "code",
   "execution_count": 4,
   "metadata": {},
   "outputs": [
    {
     "data": {
      "text/html": [
       "<div>\n",
       "<style scoped>\n",
       "    .dataframe tbody tr th:only-of-type {\n",
       "        vertical-align: middle;\n",
       "    }\n",
       "\n",
       "    .dataframe tbody tr th {\n",
       "        vertical-align: top;\n",
       "    }\n",
       "\n",
       "    .dataframe thead th {\n",
       "        text-align: right;\n",
       "    }\n",
       "</style>\n",
       "<table border=\"1\" class=\"dataframe\">\n",
       "  <thead>\n",
       "    <tr style=\"text-align: right;\">\n",
       "      <th></th>\n",
       "      <th>Year of Birth</th>\n",
       "      <th>Gender</th>\n",
       "      <th>Ethnicity</th>\n",
       "      <th>Child's First Name</th>\n",
       "      <th>Count</th>\n",
       "      <th>Rank</th>\n",
       "    </tr>\n",
       "  </thead>\n",
       "  <tbody>\n",
       "    <tr>\n",
       "      <th>0</th>\n",
       "      <td>2011</td>\n",
       "      <td>FEMALE</td>\n",
       "      <td>HISPANIC</td>\n",
       "      <td>GERALDINE</td>\n",
       "      <td>13</td>\n",
       "      <td>75</td>\n",
       "    </tr>\n",
       "    <tr>\n",
       "      <th>1</th>\n",
       "      <td>2011</td>\n",
       "      <td>FEMALE</td>\n",
       "      <td>HISPANIC</td>\n",
       "      <td>GIA</td>\n",
       "      <td>21</td>\n",
       "      <td>67</td>\n",
       "    </tr>\n",
       "    <tr>\n",
       "      <th>2</th>\n",
       "      <td>2011</td>\n",
       "      <td>FEMALE</td>\n",
       "      <td>HISPANIC</td>\n",
       "      <td>GIANNA</td>\n",
       "      <td>49</td>\n",
       "      <td>42</td>\n",
       "    </tr>\n",
       "    <tr>\n",
       "      <th>3</th>\n",
       "      <td>2011</td>\n",
       "      <td>FEMALE</td>\n",
       "      <td>HISPANIC</td>\n",
       "      <td>GISELLE</td>\n",
       "      <td>38</td>\n",
       "      <td>51</td>\n",
       "    </tr>\n",
       "    <tr>\n",
       "      <th>4</th>\n",
       "      <td>2011</td>\n",
       "      <td>FEMALE</td>\n",
       "      <td>HISPANIC</td>\n",
       "      <td>GRACE</td>\n",
       "      <td>36</td>\n",
       "      <td>53</td>\n",
       "    </tr>\n",
       "  </tbody>\n",
       "</table>\n",
       "</div>"
      ],
      "text/plain": [
       "   Year of Birth  Gender Ethnicity Child's First Name  Count  Rank\n",
       "0           2011  FEMALE  HISPANIC          GERALDINE     13    75\n",
       "1           2011  FEMALE  HISPANIC                GIA     21    67\n",
       "2           2011  FEMALE  HISPANIC             GIANNA     49    42\n",
       "3           2011  FEMALE  HISPANIC            GISELLE     38    51\n",
       "4           2011  FEMALE  HISPANIC              GRACE     36    53"
      ]
     },
     "execution_count": 4,
     "metadata": {},
     "output_type": "execute_result"
    }
   ],
   "source": [
    "url = \"https://data.cityofnewyork.us/api/views/25th-nujf/rows.csv\"\n",
    "names = pd.read_csv(url)\n",
    "names.head()"
   ]
  },
  {
   "cell_type": "code",
   "execution_count": 7,
   "metadata": {},
   "outputs": [],
   "source": [
    "##Exporting Df to csv files\n",
    "# The to_csv method exports DataFrame to a  Csv file\n",
    "# # 1st arguement is filename\n",
    "# by default, pds will include the index. Set the index paramter to False to exclude the index\n",
    "# the columns parameter limits the exported columns\n",
    "\n",
    "names.to_csv(\"baby_names.csv\", index=False, columns = [\"Year of Birth\",\"Child's First Name\",\"Count\"])"
   ]
  },
  {
   "cell_type": "code",
   "execution_count": null,
   "metadata": {},
   "outputs": [],
   "source": [
    "##Importing excel files\n",
    "# We need openpyxl module ofr this\n",
    "# read_excel function reads an Excel file/workbook into Df\n",
    "# Use the sheet_name paramaetr, if the workbook contains multiple worksheets. Pass a single worksheet name or a list of worksheet names/index positions\n",
    "# Pass the sheet_name paramater an arguemnet of None to include all worksheets\n",
    "# Pds will store multiple worksheets in a python dctionary. The keys will be the worksheet names, and the values, will be DFs\n",
    "\n",
    "#pd.read_excel(\"Data - Single Worksheet.xlsx\")\n",
    "#pd.read_excel(\"Data - Mutiple Worksheet.xlsx\") -> It h#as 2 sheets, but pds only take the 1st sheet\n",
    "#pd.read_excel(\"Data - Mutiple Worksheet.xlsx\", sheet_name = \"Data 1\") -> Only import Data 1 sheet\n",
    "#pd.read_excel(\"Data - Mutiple Worksheet.xlsx\", sheet_name = 0) -> Same as above\n",
    "#pd.read_excel(\"Data - Mutiple Worksheet.xlsx\", sheet_name = [\"Data 1\", \"Data 2\"])\n",
    "#type(pd.read_excel(\"Data - Mutiple Worksheet.xlsx\", sheet_name = [\"Data 1\", \"Data 2\"]))\n",
    "#pd.read_excel(\"Data - Mutiple Worksheet.xlsx\", sheet_name = [0, 1])\n",
    "#pd.read_excel(\"Data - Mutiple Worksheet.xlsx\", sheet_name = None) # -> captures all the sheets\n",
    "#data = pd.read_excel(\"Data - Mutiple Worksheet.xlsx\", sheet_name = None)\n",
    "#data[\"Data 1\"]\n"
   ]
  },
  {
   "cell_type": "code",
   "execution_count": 13,
   "metadata": {},
   "outputs": [],
   "source": [
    "##Export excel from pandas\n",
    "# the ExcelWriter class write one or more DataFrames to an excel file\n",
    "# Use a context manager (the with keyword) in combination with ExcelWriter Object and an assigned value\n",
    "# Invoke the to_excel method on every DataFrame to include in the Excel workbook and pass in the ExcelWriter object as 1st arguement\n",
    "# The to_excel method supports sheet_name, index and columns parameters.\n",
    "\n",
    "url = \"https://data.cityofnewyork.us/api/views/25th-nujf/rows.csv\"\n",
    "names = pd.read_csv(url)\n",
    "names.head()\n",
    "females = names[names[\"Gender\"] == \"FEMALE\"]\n",
    "males = names[names[\"Gender\"] == \"MALE\"]\n",
    "\n",
    "with pd.ExcelWriter(\"NYC_BABY_DATA.xlsx\") as excel_file: # with ensures that after writing the file, the file is closed properly and new excel file is cretaed with name \"NYC_BABAY_DATA.xlsx\"\n",
    "    females.to_excel(excel_file, sheet_name=\"Woman\", index = False)\n",
    "    males.to_excel(excel_file, sheet_name=\"Man\", columns = [\"Gender\", \"Year of Birth\", \"Child's First Name\"]) # selecting only those columns which are only needed.\n",
    "\n",
    "\n"
   ]
  },
  {
   "cell_type": "code",
   "execution_count": 11,
   "metadata": {},
   "outputs": [
    {
     "data": {
      "text/plain": [
       "Index(['Year of Birth', 'Gender', 'Ethnicity', 'Child's First Name', 'Count',\n",
       "       'Rank'],\n",
       "      dtype='object')"
      ]
     },
     "execution_count": 11,
     "metadata": {},
     "output_type": "execute_result"
    }
   ],
   "source": [
    "names.columns"
   ]
  },
  {
   "cell_type": "code",
   "execution_count": null,
   "metadata": {},
   "outputs": [],
   "source": []
  }
 ],
 "metadata": {
  "kernelspec": {
   "display_name": "Python 3",
   "language": "python",
   "name": "python3"
  },
  "language_info": {
   "codemirror_mode": {
    "name": "ipython",
    "version": 3
   },
   "file_extension": ".py",
   "mimetype": "text/x-python",
   "name": "python",
   "nbconvert_exporter": "python",
   "pygments_lexer": "ipython3",
   "version": "3.9.6"
  }
 },
 "nbformat": 4,
 "nbformat_minor": 2
}
