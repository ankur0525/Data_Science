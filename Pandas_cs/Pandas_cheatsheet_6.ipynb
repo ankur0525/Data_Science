{
 "cells": [
  {
   "cell_type": "code",
   "execution_count": 1,
   "metadata": {},
   "outputs": [],
   "source": [
    "import pandas as pd"
   ]
  },
  {
   "cell_type": "code",
   "execution_count": null,
   "metadata": {},
   "outputs": [],
   "source": [
    "###GroupBY Object\n",
    "# for same value in 1 or more column\n",
    "\n",
    "#fortune=pd.read_csv(\"fortune.csv\", index_cols=\"Rank\") -> columns: Rank(1), Company(Walmart), Sector(Retailing), Industry(General Electrics), Revenue(231), Profits(2121), Employees(123138)\n",
    "\n",
    "# Grouping is a way to organize/group the data based on a column's values\n",
    "# groupby method returns a DataFrameGroupBy object. It resembles a group/collection of DF in a dictionary-like structure\n",
    "# The DataFrameGroupBy object can perform aggregate opertaions on each group within\n",
    "\n",
    "# Task: Sum of revenues for each sector\n",
    "#fortune[fortune[\"Sector\"] == \"Retailing\"][\"Revenue\"].sum() -> this is only done for \"Retailing\" sector column only, what if we find for each unique value of sector column\n",
    "#sectors = fortune.groupby(\"Sector\") -> it is a DF object\n",
    "#len(sectors) -> there are 21 unique sectors in Sector column\n",
    "#sectors.size() -> we get a series, which shows how many unqiue fields occur how many times\n",
    "#sectors.first() -> 1st row from each Df\n",
    "#sectors.last() -> last row from each Df\n",
    "\n",
    "##get_group method\n",
    "# this method on DFGroupBy object retrieves a nested Df belonging to a specific group/category\n",
    "#sectors.get_group(\"Energy\")\n",
    "#sectors.get_group(\"Technology\")\n",
    "\n",
    "#Methods on GroupBy object\n",
    "# Use [] on the DFGB object to \"extract\" a column from the original DF\n",
    "# The resuting SeriesGB object will have aggrgegate function available on it\n",
    "# Pds will perform the calculation on every group within the collection\n",
    "# For ex, the sum method will sum together revenues for every row by group/category.\n",
    "\n",
    "#sectors[\"Revenue\"].sum() -> it will be done(sum) for every value on sector\n",
    "#setors[[\"Reevenue\", \"Profits\"]].mean()\n",
    "\n",
    "##Grouping by Multiple Columns\n",
    "# pass al ist of columns to the groupby method to group by pairing of values across columns\n",
    "# target a column to retrieve the SeriesGroupBy object, them perform an aggregation with a method\n",
    "# Pds will return a MultiIndex series where the levels will be the original groups.\n",
    "\n",
    "#fortune= pd.read_csv(\"fortune.csv\", index_cols=\"Rank\")\n",
    "#sectors= fortune.groupby([\"Sector\", \"Industry\"])\n",
    "#sectors.size()\n",
    "#sectors[\"Revenue\"].sum()\n",
    "#sectors[\"Employees\"].mean().head(20)\n",
    "\n",
    "##The agg method\n",
    "# It applies differebr aggregation methods on different columns\n",
    "# Invokes the agg method directly, provides a dictionary , if want to apply different actions on different paramters\n",
    "\n",
    "#sectors.agg({ \"Revenue\":\"sum\", \"Profits\": \"max\", \"Employees\": \"mean\"})\n",
    "\n",
    "##Iterating through Groups\n",
    "# The DataFrameGroupBy object supports the apply method (just like a Series and a DF do)\n",
    "# The apply method invokes a function on every nested Df in the DataFrameGroupBy object\n",
    "# It captures the return values of the function and collects them in a new DataFrame (the return value)\n",
    "\n",
    "#Task: the two companies in each sector with the most employees\n",
    "#fortune.nlargest(2, \"Employees\") -> this is good, but it is for complete dataframe, what we wnat is fpr each sector, energy, technology, automobiles, etc.\n",
    "\n",
    "def top_two_companies_by_employees_count(sector): #this will be applied to each unique value in the sector column, for 21 unique values, the function wil run 21 times\n",
    "    return sector.nlargest(2, \"Employees\")\n",
    "\n",
    "#sectors.apply(top_two_companies_by_employees_count)\n"
   ]
  }
 ],
 "metadata": {
  "kernelspec": {
   "display_name": "Python 3",
   "language": "python",
   "name": "python3"
  },
  "language_info": {
   "codemirror_mode": {
    "name": "ipython",
    "version": 3
   },
   "file_extension": ".py",
   "mimetype": "text/x-python",
   "name": "python",
   "nbconvert_exporter": "python",
   "pygments_lexer": "ipython3",
   "version": "3.9.6"
  }
 },
 "nbformat": 4,
 "nbformat_minor": 2
}
