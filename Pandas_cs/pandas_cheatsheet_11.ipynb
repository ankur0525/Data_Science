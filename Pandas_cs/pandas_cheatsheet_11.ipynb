{
 "cells": [
  {
   "cell_type": "code",
   "execution_count": 1,
   "metadata": {},
   "outputs": [],
   "source": [
    "import pandas as pd\n",
    "import numpy as np"
   ]
  },
  {
   "cell_type": "code",
   "execution_count": 6,
   "metadata": {},
   "outputs": [
    {
     "data": {
      "text/plain": [
       "60"
      ]
     },
     "execution_count": 6,
     "metadata": {},
     "output_type": "execute_result"
    }
   ],
   "source": [
    "###Options and Settings Module\n",
    "# The pd.options module configures Pandas' settings\n",
    "# The display module delas with the presentation of data\n",
    "# The min_rows attributes sets the minimum number of displayed rows when max_rows is exceeded.\n",
    "# The max_columns attributes sets the maximum number of displayed columns. There is no min_columns attribute\n",
    "# Overwrite an attribute's value with an equal sign and new value\n",
    "\n",
    "np.random.randint(0,100, [60,50])\n",
    "type(np.random.randint(0,100, [60,50]))\n",
    "df = pd.DataFrame(np.random.randint(0,100, [60,50])) #-> hide the middle columns(truncate). if we increae rows also, it got also truncated after some vlaues\n",
    "\n",
    "pd.options.display.min_rows #-> we found  that it is ste to 10\n",
    "pd.options.display.max_rows #-> found that it is set to 60 ##basically if no. of rows <= 60, every rows is displayed, else only 10 rows\n",
    "\n",
    "pd.options.display.min_rows = 20 #-> increasing the vlaue to 20\n",
    "pd.options.display.max_rows = 80\n",
    "pd.options.display.max_columns = 30\n",
    "pd.options.display.max_columns = None #-> no limit of no. of the column displaying\n",
    "# There is no  \"pd.options.display.min_columns\" option\n",
    "# NOTE: the last setting that you run will be applicalble to al Jupyter notebooks"
   ]
  },
  {
   "cell_type": "code",
   "execution_count": 11,
   "metadata": {},
   "outputs": [
    {
     "name": "stdout",
     "output_type": "stream",
     "text": [
      "display.max_rows : int\n",
      "    If max_rows is exceeded, switch to truncate view. Depending on\n",
      "    `large_repr`, objects are either centrally truncated or printed as\n",
      "    a summary view. 'None' value means unlimited.\n",
      "\n",
      "    In case python/IPython is running in a terminal and `large_repr`\n",
      "    equals 'truncate' this can be set to 0 and pandas will auto-detect\n",
      "    the height of the terminal and print a truncated object which fits\n",
      "    the screen height. The IPython notebook, IPython qtconsole, or\n",
      "    IDLE do not run in a terminal and hence it is not possible to do\n",
      "    correct auto-detection.\n",
      "    [default: 60] [currently: 20]\n"
     ]
    }
   ],
   "source": [
    "##CHANGING OPTIONS WITH Functions\n",
    "# The pd.get_option function retrieves the curren tvalues for a pandas setting.\n",
    "# The pd.set_option function sets a new vlaue for pandas setting\n",
    "# The pd.derscribe_option function provides documentation for a pandas setting\n",
    "# The pd.reset_option function returns a pds setting back to it's default value\n",
    "\n",
    "df = pd.DataFrame(np.random.randint(0,100, [60,50]))\n",
    "\n",
    "pd.get_option(\"display.min_rows\")\n",
    "pd.set_option(\"display.max_columns\", 16)\n",
    "pd.set_option(\"display.max_rows\", 20) # same as pd.options.display.max_rows = 20\n",
    "\n",
    "pd.describe_option(\"display.max_rows\") # give info about the \"display.max_rows\" option, also tells current value and default value\n",
    "pd.reset_option(\"display.max_rows\") # reset back to default values\n",
    "pd.reset_option(\"display.min_rows\")\n",
    "pd.reset_option(\"display.max_columns\")"
   ]
  },
  {
   "cell_type": "code",
   "execution_count": 17,
   "metadata": {},
   "outputs": [
    {
     "data": {
      "text/html": [
       "<div>\n",
       "<style scoped>\n",
       "    .dataframe tbody tr th:only-of-type {\n",
       "        vertical-align: middle;\n",
       "    }\n",
       "\n",
       "    .dataframe tbody tr th {\n",
       "        vertical-align: top;\n",
       "    }\n",
       "\n",
       "    .dataframe thead th {\n",
       "        text-align: right;\n",
       "    }\n",
       "</style>\n",
       "<table border=\"1\" class=\"dataframe\">\n",
       "  <thead>\n",
       "    <tr style=\"text-align: right;\">\n",
       "      <th></th>\n",
       "      <th>0</th>\n",
       "      <th>1</th>\n",
       "      <th>2</th>\n",
       "      <th>3</th>\n",
       "      <th>4</th>\n",
       "    </tr>\n",
       "  </thead>\n",
       "  <tbody>\n",
       "    <tr>\n",
       "      <th>0</th>\n",
       "      <td>0.224</td>\n",
       "      <td>0.981</td>\n",
       "      <td>0.615</td>\n",
       "      <td>0.022</td>\n",
       "      <td>-0.552</td>\n",
       "    </tr>\n",
       "    <tr>\n",
       "      <th>1</th>\n",
       "      <td>-1.622</td>\n",
       "      <td>0.498</td>\n",
       "      <td>-1.679</td>\n",
       "      <td>0.004</td>\n",
       "      <td>-0.676</td>\n",
       "    </tr>\n",
       "    <tr>\n",
       "      <th>2</th>\n",
       "      <td>-1.762</td>\n",
       "      <td>2.182</td>\n",
       "      <td>0.104</td>\n",
       "      <td>0.292</td>\n",
       "      <td>-0.468</td>\n",
       "    </tr>\n",
       "    <tr>\n",
       "      <th>3</th>\n",
       "      <td>-1.465</td>\n",
       "      <td>-0.903</td>\n",
       "      <td>1.950</td>\n",
       "      <td>1.802</td>\n",
       "      <td>-0.145</td>\n",
       "    </tr>\n",
       "    <tr>\n",
       "      <th>4</th>\n",
       "      <td>-0.337</td>\n",
       "      <td>0.532</td>\n",
       "      <td>-0.047</td>\n",
       "      <td>-0.589</td>\n",
       "      <td>1.202</td>\n",
       "    </tr>\n",
       "  </tbody>\n",
       "</table>\n",
       "</div>"
      ],
      "text/plain": [
       "       0      1      2      3      4\n",
       "0  0.224  0.981  0.615  0.022 -0.552\n",
       "1 -1.622  0.498 -1.679  0.004 -0.676\n",
       "2 -1.762  2.182  0.104  0.292 -0.468\n",
       "3 -1.465 -0.903  1.950  1.802 -0.145\n",
       "4 -0.337  0.532 -0.047 -0.589  1.202"
      ]
     },
     "execution_count": 17,
     "metadata": {},
     "output_type": "execute_result"
    }
   ],
   "source": [
    "##The precision Option\n",
    "# The display.precision option sets the number of digits that appear after a decimel point in a floating-point number\n",
    "# The default value is 6\n",
    "\n",
    "\n",
    "df2 = pd.DataFrame(np.random.randn(5,5))\n",
    "pd.options.display.precision # tells the no. of digits we see after the decimel\n",
    "pd.get_option(\"display.precision\") # same as above\n",
    "pd.set_option(\"display.precision\", 3) # Remeber the value of the data is not mutatatd or changed, this only for visual representation, if you do df.iloc method you can check the full/original value\n",
    "df2"
   ]
  },
  {
   "cell_type": "code",
   "execution_count": 22,
   "metadata": {},
   "outputs": [
    {
     "name": "stdout",
     "output_type": "stream",
     "text": [
      "display.precision : int\n",
      "    Floating point output precision in terms of number of places after the\n",
      "    decimal, for regular formatting as well as scientific notation. Similar\n",
      "    to ``precision`` in :meth:`numpy.set_printoptions`.\n",
      "    [default: 6] [currently: 6]\n"
     ]
    }
   ],
   "source": [
    "pd.describe_option(\"display.precision\")"
   ]
  },
  {
   "cell_type": "code",
   "execution_count": 21,
   "metadata": {},
   "outputs": [],
   "source": [
    "pd.reset_option(\"display.precision\")"
   ]
  },
  {
   "cell_type": "code",
   "execution_count": null,
   "metadata": {},
   "outputs": [],
   "source": []
  }
 ],
 "metadata": {
  "kernelspec": {
   "display_name": "Python 3",
   "language": "python",
   "name": "python3"
  },
  "language_info": {
   "codemirror_mode": {
    "name": "ipython",
    "version": 3
   },
   "file_extension": ".py",
   "mimetype": "text/x-python",
   "name": "python",
   "nbconvert_exporter": "python",
   "pygments_lexer": "ipython3",
   "version": "3.9.6"
  }
 },
 "nbformat": 4,
 "nbformat_minor": 2
}
