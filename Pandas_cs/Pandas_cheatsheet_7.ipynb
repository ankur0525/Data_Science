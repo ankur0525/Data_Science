{
 "cells": [
  {
   "cell_type": "code",
   "execution_count": 1,
   "metadata": {},
   "outputs": [],
   "source": [
    "import pandas as pd\n",
    "##Merging DataFrames"
   ]
  },
  {
   "cell_type": "code",
   "execution_count": null,
   "metadata": {},
   "outputs": [],
   "source": [
    "#foods=pd.read_csv(\"restaurant_foods.csv\") -> columns Food Id , Food Itne, Price\n",
    "#custyomers=pd.rread_csv(\"restaurnat_customers.csv\") -Columns: ID,  1st name. last name, gender, Company, Occupation\n",
    "#week1=pd.read_csv(\"restaurants_week_1_sales.csv\") -> COlumns: CUstomer ID , Food ID\n",
    "#wwek2= pd.read_csv(\"restaurnat_week_2_sales.csv\") -> Columns: CUstomer ID. FoodID"
   ]
  },
  {
   "cell_type": "code",
   "execution_count": null,
   "metadata": {},
   "outputs": [],
   "source": [
    "##pd.concat Function\n",
    "# The concat function concentrates 1 df to the end of another\n",
    "# The original index labels wull be kept by default. Ste ignore_index to True to generate a new index\n",
    "# The keys parameter creates a MUltiIndex using the specified keys/labels\n",
    "\n",
    "#len(week1) -> 250\n",
    "#len(week2) -> 250\n",
    "#pd.concat(week1, week2) -> 500 rows * 2 columns\n",
    "#pd.concat([week1, week2], ignore_index = False) -> do not create a new index(0~249, again 0~249)\n",
    "#pd.concat([week1, week2], ignore_index = True) -> creates a new index (0~499)\n",
    "#pd.concat([week1, week2], keys=[\"Week1\", \"Week2\"]).sort_index() -> creates 2 key or identifier \n",
    "\n",
    "##pd.concat Function II\n",
    "# Pds will concatenate the DataFrame along the row/index axis\n",
    "# Pds will include all columns that exist in either dataFrame. If there are no matching values, pandas will use Nan values\n",
    "# We can pass the axis paramter, an arguement of \"columns\" to concatenate on the column axis\n",
    "\n",
    "#df1 = pd.DataFrame([1,2,3], columns=[\"A\"])\n",
    "#df2 = pd.DataFrame([4,5,6], columns=[\"B\"])\n",
    "#pd.concat([df1, df2]) or #pd.concat([df1, df2], axis=\"index\") -> Pds will concate to the end instead of side-by-side\n",
    "'''A    B\n",
    "    1.0 Nan\n",
    "    2.0 Nan\n",
    "    3.0 Nan\n",
    "    Nan 4.0\n",
    "    Nan 5.0\n",
    "    Nan 6.0'''\n",
    "\n",
    "#pd.concat([df1,df2], axis=\"columns\") -> pds will create the tables side-by-side\n",
    "''' A B\n",
    "    1 4\n",
    "    2 5\n",
    "    3 6'''"
   ]
  },
  {
   "cell_type": "code",
   "execution_count": null,
   "metadata": {},
   "outputs": [],
   "source": [
    "##Left Joins\n",
    "# the merge method joins 2 Dfs together based on shared values in a column\n",
    "# A left join merges 1 Df into another based on values in 1st one\n",
    "# The \"left\" Df is the one where we invoke the merge method\n",
    "# If the left DF's value is not found in the right DF, the row will hold NAn values\n",
    "\n",
    "#foods=pd.read_csv(\"restaurant_foods.csv\") -> columns Food Id , Food Item, Price\n",
    "#custyomers=pd.rread_csv(\"restaurnat_customers.csv\") -Columns: ID,  1st name. last name, gender, Company, Occupation\n",
    "#week1=pd.read_csv(\"restaurants_week_1_sales.csv\") -> COlumns CUstomer ID , Food ID\n",
    "#week2= pd.read_csv(\"restaurnat_week_2_sales.csv\") -> Columns CUstomer ID. Food ID\n",
    "\n",
    "\n",
    "#week1.merge(foods, how=\"left\",on=\"Food ID\") -> in week1 we invoke merge method (left table-week1, right table-food)\n",
    "\n",
    "##the left_on and right_on parameters\n",
    "# These designate the column names from each Df to use in the merge, used when column names are different\n",
    "\n",
    "#week2.merge(customers, how=\"left\", left_on=\"Customer ID\", right_on=\"ID\") -> left merge invoke on week2, but this time Pds reatian both \"ID\" and \"Customer ID\" column, even though the values in both te columns are same\n",
    "#week2.merge(customers, how=\"left\", left_on=\"Customer ID\", right_on=\"ID\").drop(\"ID\", axis=\"columns\") > same as above only ID column is now dropped\n",
    "\n",
    "##Inner Joins I\n",
    "# merges 2 tables based on shared/common vales in columns (intersection of 2 tables)\n",
    "# If one One DF has a value, Pds will exclude it from the final result set\n",
    "# The same ID occurs multiple times, Pds will store each possible combination of the values\n",
    "# The design of the join ensures that the results will be the same no matter what DF the merge method is invoked upon\n",
    "\n",
    "#week1.merge(week2, how=\"inner\", on=\"Customer ID\", suffixes=[\" - Week 1\", \" - Week 2\"]) -> suffixes will make the new column name based on the list provided to it\n",
    "\n",
    "##Inner Join II\n",
    "# We can pass multiple arguements to the \"on\" parameter of merge method. Pds will require matches in both columns across the DFs\n",
    "#condition1 = week1[\"Customer ID\"] == 304\n",
    "#condition2 = week2[\"Food ID\"] == 3\n",
    "#week1[condition1 & condition2] -> give all rows which satisfies both condition1 and condition2\n",
    "\n",
    "#week1.merge(week2, how=\"inner\", on=[\"Customer ID\", \"Food ID\"])\n",
    "\n",
    "##Full/Outer Joins\n",
    "# These joins values that are found in either Dfs or both Dfs\n",
    "# Pds don't care if values exists in 1 DF but not other\n",
    "# If a value does not exist in 1 DF, it will have Nan value\n",
    "\n",
    "#week1.merge(week2, how=\"outer\", on=\"Customer ID\", suffixes = [\" _ Week 1\", \" _ Week 2 \"])\n",
    "#week1.merge(week2, how=\"outer\", on=\"Customer ID\", suffixes = [\" _ Week 1\", \" _ Week 2 \"], indicators=True) -> it will add 1 column (\"_merge\") in the table and tell if the value exist in both, left_only or right_only tables.\n",
    "#merged = week1.merge(week2, how=\"outer\", on=\"Customer ID\", suffixes = [\" _ Week 1\", \" _ Week 2 \"], indicators=True)\n",
    "#merged[\"_merge\"].value_counts()\n",
    "#merged[merged[\"_merge\"].isin([\"left_only\", \"right_only\"])]\n",
    "\n",
    "##Merging by Indexes with left_index and right_index Parameters\n",
    "# Using the on parameter if the column(s) to be matched on have the same names in both Dfs\n",
    "# use the left_on and right_on parameters if the column(s) to be matched on have different names in the two Dfs\n",
    "# Use the left_index or right_index parameters (set to True) to if the values to be matched on are found in the index of DataFrame\n",
    "\n",
    "#week1.merge(customers, how=\"left\", left_on=\"Customer ID\", right_index=True).merge(foods, how=\"left\", left_on=\"Food ID\", right_index=True)\n",
    "\n"
   ]
  },
  {
   "cell_type": "code",
   "execution_count": null,
   "metadata": {},
   "outputs": [],
   "source": [
    "##Join Method\n",
    "# A shortcut for concatenating 2 DFs when merging by index labels\n",
    "#times = pd.read_cv(\"restaurant_week_1_times.csv\") -> Columns: index, \"Time of Day\"\n",
    "#week1.merge(times, how = \"left\", left_index=True, right_index=True) -> Columns: Index, Customer ID, Food ID, Time of Day\n",
    "#week1.join(times) -> Will get the same table, generally used if left_index = True & right_index = True"
   ]
  }
 ],
 "metadata": {
  "kernelspec": {
   "display_name": "Python 3",
   "language": "python",
   "name": "python3"
  },
  "language_info": {
   "codemirror_mode": {
    "name": "ipython",
    "version": 3
   },
   "file_extension": ".py",
   "mimetype": "text/x-python",
   "name": "python",
   "nbconvert_exporter": "python",
   "pygments_lexer": "ipython3",
   "version": "3.9.6"
  }
 },
 "nbformat": 4,
 "nbformat_minor": 2
}
