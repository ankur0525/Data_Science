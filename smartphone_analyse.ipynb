{
 "cells": [
  {
   "cell_type": "code",
   "execution_count": 1,
   "metadata": {},
   "outputs": [],
   "source": [
    "import numpy as np\n",
    "import pandas as pd\n",
    "import seaborn as sns\n",
    "import matplotlib\n",
    "import matplotlib.pyplot as plt\n",
    "%matplotlib inline\n"
   ]
  },
  {
   "cell_type": "code",
   "execution_count": 2,
   "metadata": {},
   "outputs": [
    {
     "data": {
      "text/html": [
       "<div>\n",
       "<style scoped>\n",
       "    .dataframe tbody tr th:only-of-type {\n",
       "        vertical-align: middle;\n",
       "    }\n",
       "\n",
       "    .dataframe tbody tr th {\n",
       "        vertical-align: top;\n",
       "    }\n",
       "\n",
       "    .dataframe thead th {\n",
       "        text-align: right;\n",
       "    }\n",
       "</style>\n",
       "<table border=\"1\" class=\"dataframe\">\n",
       "  <thead>\n",
       "    <tr style=\"text-align: right;\">\n",
       "      <th></th>\n",
       "      <th>Smartphone</th>\n",
       "      <th>Brand</th>\n",
       "      <th>Model</th>\n",
       "      <th>RAM</th>\n",
       "      <th>Storage</th>\n",
       "      <th>Color</th>\n",
       "      <th>Free</th>\n",
       "      <th>Final Price</th>\n",
       "    </tr>\n",
       "  </thead>\n",
       "  <tbody>\n",
       "    <tr>\n",
       "      <th>0</th>\n",
       "      <td>Realme C55 8/256GB Sunshower Libre</td>\n",
       "      <td>Realme</td>\n",
       "      <td>C55</td>\n",
       "      <td>8.0</td>\n",
       "      <td>256.0</td>\n",
       "      <td>Yellow</td>\n",
       "      <td>Yes</td>\n",
       "      <td>231.6</td>\n",
       "    </tr>\n",
       "    <tr>\n",
       "      <th>1</th>\n",
       "      <td>Samsung Galaxy M23 5G 4/128GB Azul Libre</td>\n",
       "      <td>Samsung</td>\n",
       "      <td>Galaxy M23</td>\n",
       "      <td>4.0</td>\n",
       "      <td>128.0</td>\n",
       "      <td>Blue</td>\n",
       "      <td>Yes</td>\n",
       "      <td>279.0</td>\n",
       "    </tr>\n",
       "  </tbody>\n",
       "</table>\n",
       "</div>"
      ],
      "text/plain": [
       "                                 Smartphone    Brand       Model  RAM  \\\n",
       "0        Realme C55 8/256GB Sunshower Libre   Realme         C55  8.0   \n",
       "1  Samsung Galaxy M23 5G 4/128GB Azul Libre  Samsung  Galaxy M23  4.0   \n",
       "\n",
       "   Storage   Color Free  Final Price  \n",
       "0    256.0  Yellow  Yes        231.6  \n",
       "1    128.0    Blue  Yes        279.0  "
      ]
     },
     "execution_count": 2,
     "metadata": {},
     "output_type": "execute_result"
    }
   ],
   "source": [
    "smartphone_1 = pd.read_csv(\"smartphones.csv\")\n",
    "smartphone_1.head(2)"
   ]
  },
  {
   "cell_type": "code",
   "execution_count": 3,
   "metadata": {},
   "outputs": [
    {
     "data": {
      "text/html": [
       "<div>\n",
       "<style scoped>\n",
       "    .dataframe tbody tr th:only-of-type {\n",
       "        vertical-align: middle;\n",
       "    }\n",
       "\n",
       "    .dataframe tbody tr th {\n",
       "        vertical-align: top;\n",
       "    }\n",
       "\n",
       "    .dataframe thead th {\n",
       "        text-align: right;\n",
       "    }\n",
       "</style>\n",
       "<table border=\"1\" class=\"dataframe\">\n",
       "  <thead>\n",
       "    <tr style=\"text-align: right;\">\n",
       "      <th></th>\n",
       "      <th>brand_name</th>\n",
       "      <th>model</th>\n",
       "      <th>price</th>\n",
       "      <th>rating</th>\n",
       "      <th>has_5g</th>\n",
       "      <th>has_nfc</th>\n",
       "      <th>has_ir_blaster</th>\n",
       "      <th>processor_brand</th>\n",
       "      <th>num_cores</th>\n",
       "      <th>processor_speed</th>\n",
       "      <th>...</th>\n",
       "      <th>screen_size</th>\n",
       "      <th>refresh_rate</th>\n",
       "      <th>resolution</th>\n",
       "      <th>num_rear_cameras</th>\n",
       "      <th>num_front_cameras</th>\n",
       "      <th>os</th>\n",
       "      <th>primary_camera_rear</th>\n",
       "      <th>primary_camera_front</th>\n",
       "      <th>extended_memory_available</th>\n",
       "      <th>extended_upto</th>\n",
       "    </tr>\n",
       "  </thead>\n",
       "  <tbody>\n",
       "    <tr>\n",
       "      <th>0</th>\n",
       "      <td>oneplus</td>\n",
       "      <td>OnePlus 11 5G</td>\n",
       "      <td>54999</td>\n",
       "      <td>89.0</td>\n",
       "      <td>True</td>\n",
       "      <td>True</td>\n",
       "      <td>False</td>\n",
       "      <td>snapdragon</td>\n",
       "      <td>8.0</td>\n",
       "      <td>3.2</td>\n",
       "      <td>...</td>\n",
       "      <td>6.70</td>\n",
       "      <td>120</td>\n",
       "      <td>1440 x 3216</td>\n",
       "      <td>3</td>\n",
       "      <td>1.0</td>\n",
       "      <td>android</td>\n",
       "      <td>50.0</td>\n",
       "      <td>16.0</td>\n",
       "      <td>0</td>\n",
       "      <td>NaN</td>\n",
       "    </tr>\n",
       "    <tr>\n",
       "      <th>1</th>\n",
       "      <td>oneplus</td>\n",
       "      <td>OnePlus Nord CE 2 Lite 5G</td>\n",
       "      <td>19989</td>\n",
       "      <td>81.0</td>\n",
       "      <td>True</td>\n",
       "      <td>False</td>\n",
       "      <td>False</td>\n",
       "      <td>snapdragon</td>\n",
       "      <td>8.0</td>\n",
       "      <td>2.2</td>\n",
       "      <td>...</td>\n",
       "      <td>6.59</td>\n",
       "      <td>120</td>\n",
       "      <td>1080 x 2412</td>\n",
       "      <td>3</td>\n",
       "      <td>1.0</td>\n",
       "      <td>android</td>\n",
       "      <td>64.0</td>\n",
       "      <td>16.0</td>\n",
       "      <td>1</td>\n",
       "      <td>1024.0</td>\n",
       "    </tr>\n",
       "  </tbody>\n",
       "</table>\n",
       "<p>2 rows × 25 columns</p>\n",
       "</div>"
      ],
      "text/plain": [
       "  brand_name                      model  price  rating  has_5g  has_nfc  \\\n",
       "0    oneplus              OnePlus 11 5G  54999    89.0    True     True   \n",
       "1    oneplus  OnePlus Nord CE 2 Lite 5G  19989    81.0    True    False   \n",
       "\n",
       "   has_ir_blaster processor_brand  num_cores  processor_speed  ...  \\\n",
       "0           False      snapdragon        8.0              3.2  ...   \n",
       "1           False      snapdragon        8.0              2.2  ...   \n",
       "\n",
       "   screen_size  refresh_rate    resolution  num_rear_cameras  \\\n",
       "0         6.70           120  1440 x 3216                  3   \n",
       "1         6.59           120  1080 x 2412                  3   \n",
       "\n",
       "   num_front_cameras       os  primary_camera_rear primary_camera_front  \\\n",
       "0                1.0  android                 50.0                 16.0   \n",
       "1                1.0  android                 64.0                 16.0   \n",
       "\n",
       "   extended_memory_available  extended_upto  \n",
       "0                          0            NaN  \n",
       "1                          1         1024.0  \n",
       "\n",
       "[2 rows x 25 columns]"
      ]
     },
     "execution_count": 3,
     "metadata": {},
     "output_type": "execute_result"
    }
   ],
   "source": [
    "smartphone_2 = pd.read_csv(\"smartphone_cleaned_v5.csv\")\n",
    "smartphone_2.head(2)"
   ]
  },
  {
   "cell_type": "code",
   "execution_count": 4,
   "metadata": {},
   "outputs": [
    {
     "name": "stdout",
     "output_type": "stream",
     "text": [
      "<class 'pandas.core.frame.DataFrame'>\n",
      "RangeIndex: 1816 entries, 0 to 1815\n",
      "Data columns (total 8 columns):\n",
      " #   Column       Non-Null Count  Dtype  \n",
      "---  ------       --------------  -----  \n",
      " 0   Smartphone   1816 non-null   object \n",
      " 1   Brand        1816 non-null   object \n",
      " 2   Model        1816 non-null   object \n",
      " 3   RAM          1333 non-null   float64\n",
      " 4   Storage      1791 non-null   float64\n",
      " 5   Color        1816 non-null   object \n",
      " 6   Free         1816 non-null   object \n",
      " 7   Final Price  1816 non-null   float64\n",
      "dtypes: float64(3), object(5)\n",
      "memory usage: 113.6+ KB\n"
     ]
    }
   ],
   "source": [
    "smartphone_1.info()"
   ]
  },
  {
   "cell_type": "code",
   "execution_count": 5,
   "metadata": {},
   "outputs": [
    {
     "name": "stdout",
     "output_type": "stream",
     "text": [
      "<class 'pandas.core.frame.DataFrame'>\n",
      "RangeIndex: 980 entries, 0 to 979\n",
      "Data columns (total 25 columns):\n",
      " #   Column                     Non-Null Count  Dtype  \n",
      "---  ------                     --------------  -----  \n",
      " 0   brand_name                 980 non-null    object \n",
      " 1   model                      980 non-null    object \n",
      " 2   price                      980 non-null    int64  \n",
      " 3   rating                     879 non-null    float64\n",
      " 4   has_5g                     980 non-null    bool   \n",
      " 5   has_nfc                    980 non-null    bool   \n",
      " 6   has_ir_blaster             980 non-null    bool   \n",
      " 7   processor_brand            960 non-null    object \n",
      " 8   num_cores                  974 non-null    float64\n",
      " 9   processor_speed            938 non-null    float64\n",
      " 10  battery_capacity           969 non-null    float64\n",
      " 11  fast_charging_available    980 non-null    int64  \n",
      " 12  fast_charging              769 non-null    float64\n",
      " 13  ram_capacity               980 non-null    int64  \n",
      " 14  internal_memory            980 non-null    int64  \n",
      " 15  screen_size                980 non-null    float64\n",
      " 16  refresh_rate               980 non-null    int64  \n",
      " 17  resolution                 980 non-null    object \n",
      " 18  num_rear_cameras           980 non-null    int64  \n",
      " 19  num_front_cameras          976 non-null    float64\n",
      " 20  os                         966 non-null    object \n",
      " 21  primary_camera_rear        980 non-null    float64\n",
      " 22  primary_camera_front       975 non-null    float64\n",
      " 23  extended_memory_available  980 non-null    int64  \n",
      " 24  extended_upto              500 non-null    float64\n",
      "dtypes: bool(3), float64(10), int64(7), object(5)\n",
      "memory usage: 171.4+ KB\n"
     ]
    }
   ],
   "source": [
    "smartphone_2.info()"
   ]
  },
  {
   "cell_type": "code",
   "execution_count": 6,
   "metadata": {},
   "outputs": [
    {
     "data": {
      "text/plain": [
       "Index(['brand_name', 'model', 'price', 'rating', 'has_5g', 'has_nfc',\n",
       "       'has_ir_blaster', 'processor_brand', 'num_cores', 'processor_speed',\n",
       "       'battery_capacity', 'fast_charging_available', 'fast_charging',\n",
       "       'ram_capacity', 'internal_memory', 'screen_size', 'refresh_rate',\n",
       "       'resolution', 'num_rear_cameras', 'num_front_cameras', 'os',\n",
       "       'primary_camera_rear', 'primary_camera_front',\n",
       "       'extended_memory_available', 'extended_upto'],\n",
       "      dtype='object')"
      ]
     },
     "execution_count": 6,
     "metadata": {},
     "output_type": "execute_result"
    }
   ],
   "source": [
    "smartphone_2.columns"
   ]
  },
  {
   "cell_type": "code",
   "execution_count": 7,
   "metadata": {},
   "outputs": [],
   "source": [
    "#### as the second data has a lot more detailed data, so considering the 2nd data.\n",
    "smartphones = smartphone_2"
   ]
  },
  {
   "cell_type": "code",
   "execution_count": 8,
   "metadata": {},
   "outputs": [
    {
     "data": {
      "text/plain": [
       "<bound method NDFrame.describe of     brand_name                            model  price  rating  has_5g  \\\n",
       "0      oneplus                    OnePlus 11 5G  54999    89.0    True   \n",
       "1      oneplus        OnePlus Nord CE 2 Lite 5G  19989    81.0    True   \n",
       "2      samsung            Samsung Galaxy A14 5G  16499    75.0    True   \n",
       "3     motorola             Motorola Moto G62 5G  14999    81.0    True   \n",
       "4       realme               Realme 10 Pro Plus  24999    82.0    True   \n",
       "..         ...                              ...    ...     ...     ...   \n",
       "975   motorola       Motorola Moto Edge S30 Pro  34990    83.0    True   \n",
       "976      honor                      Honor X8 5G  14990    75.0    True   \n",
       "977       poco  POCO X4 GT 5G (8GB RAM + 256GB)  28990    85.0    True   \n",
       "978   motorola             Motorola Moto G91 5G  19990    80.0    True   \n",
       "979    samsung           Samsung Galaxy M52s 5G  24990    74.0    True   \n",
       "\n",
       "     has_nfc  has_ir_blaster processor_brand  num_cores  processor_speed  ...  \\\n",
       "0       True           False      snapdragon        8.0             3.20  ...   \n",
       "1      False           False      snapdragon        8.0             2.20  ...   \n",
       "2      False           False          exynos        8.0             2.40  ...   \n",
       "3      False           False      snapdragon        8.0             2.20  ...   \n",
       "4      False           False       dimensity        8.0             2.60  ...   \n",
       "..       ...             ...             ...        ...              ...  ...   \n",
       "975    False           False      snapdragon        8.0             3.00  ...   \n",
       "976    False           False      snapdragon        8.0             2.20  ...   \n",
       "977     True            True       dimensity        8.0             2.85  ...   \n",
       "978     True           False      snapdragon        8.0             2.20  ...   \n",
       "979    False           False             NaN        8.0              NaN  ...   \n",
       "\n",
       "     screen_size  refresh_rate    resolution  num_rear_cameras  \\\n",
       "0           6.70           120  1440 x 3216                  3   \n",
       "1           6.59           120  1080 x 2412                  3   \n",
       "2           6.60            90  1080 x 2408                  3   \n",
       "3           6.55           120  1080 x 2400                  3   \n",
       "4           6.70           120  1080 x 2412                  3   \n",
       "..           ...           ...           ...               ...   \n",
       "975         6.67           120  1080 x 2460                  3   \n",
       "976         6.50            60   720 x 1600                  3   \n",
       "977         6.60           144  1080 x 2460                  3   \n",
       "978         6.80            60  1080 x 2400                  3   \n",
       "979         6.50            60  1080 x 2400                  3   \n",
       "\n",
       "     num_front_cameras       os  primary_camera_rear primary_camera_front  \\\n",
       "0                  1.0  android                 50.0                 16.0   \n",
       "1                  1.0  android                 64.0                 16.0   \n",
       "2                  1.0  android                 50.0                 13.0   \n",
       "3                  1.0  android                 50.0                 16.0   \n",
       "4                  1.0  android                108.0                 16.0   \n",
       "..                 ...      ...                  ...                  ...   \n",
       "975                1.0  android                 64.0                 16.0   \n",
       "976                1.0  android                 48.0                  8.0   \n",
       "977                1.0  android                 64.0                 16.0   \n",
       "978                1.0  android                108.0                 32.0   \n",
       "979                1.0  android                 64.0                 32.0   \n",
       "\n",
       "     extended_memory_available  extended_upto  \n",
       "0                            0            NaN  \n",
       "1                            1         1024.0  \n",
       "2                            1         1024.0  \n",
       "3                            1         1024.0  \n",
       "4                            0            NaN  \n",
       "..                         ...            ...  \n",
       "975                          0            NaN  \n",
       "976                          1         1024.0  \n",
       "977                          0            NaN  \n",
       "978                          1         1024.0  \n",
       "979                          1         1024.0  \n",
       "\n",
       "[980 rows x 25 columns]>"
      ]
     },
     "execution_count": 8,
     "metadata": {},
     "output_type": "execute_result"
    }
   ],
   "source": [
    "smartphones.describe"
   ]
  },
  {
   "cell_type": "code",
   "execution_count": 9,
   "metadata": {},
   "outputs": [
    {
     "data": {
      "text/html": [
       "<div>\n",
       "<style scoped>\n",
       "    .dataframe tbody tr th:only-of-type {\n",
       "        vertical-align: middle;\n",
       "    }\n",
       "\n",
       "    .dataframe tbody tr th {\n",
       "        vertical-align: top;\n",
       "    }\n",
       "\n",
       "    .dataframe thead th {\n",
       "        text-align: right;\n",
       "    }\n",
       "</style>\n",
       "<table border=\"1\" class=\"dataframe\">\n",
       "  <thead>\n",
       "    <tr style=\"text-align: right;\">\n",
       "      <th></th>\n",
       "      <th>brand_name</th>\n",
       "      <th>model</th>\n",
       "      <th>price</th>\n",
       "      <th>rating</th>\n",
       "      <th>has_5g</th>\n",
       "      <th>has_nfc</th>\n",
       "      <th>has_ir_blaster</th>\n",
       "      <th>processor_brand</th>\n",
       "      <th>num_cores</th>\n",
       "      <th>processor_speed</th>\n",
       "      <th>...</th>\n",
       "      <th>screen_size</th>\n",
       "      <th>refresh_rate</th>\n",
       "      <th>resolution</th>\n",
       "      <th>num_rear_cameras</th>\n",
       "      <th>num_front_cameras</th>\n",
       "      <th>os</th>\n",
       "      <th>primary_camera_rear</th>\n",
       "      <th>primary_camera_front</th>\n",
       "      <th>extended_memory_available</th>\n",
       "      <th>extended_upto</th>\n",
       "    </tr>\n",
       "  </thead>\n",
       "  <tbody>\n",
       "    <tr>\n",
       "      <th>0</th>\n",
       "      <td>oneplus</td>\n",
       "      <td>OnePlus 11 5G</td>\n",
       "      <td>54999</td>\n",
       "      <td>89.0</td>\n",
       "      <td>True</td>\n",
       "      <td>True</td>\n",
       "      <td>False</td>\n",
       "      <td>snapdragon</td>\n",
       "      <td>8.0</td>\n",
       "      <td>3.2</td>\n",
       "      <td>...</td>\n",
       "      <td>6.70</td>\n",
       "      <td>120</td>\n",
       "      <td>1440 x 3216</td>\n",
       "      <td>3</td>\n",
       "      <td>1.0</td>\n",
       "      <td>android</td>\n",
       "      <td>50.0</td>\n",
       "      <td>16.0</td>\n",
       "      <td>0</td>\n",
       "      <td>NaN</td>\n",
       "    </tr>\n",
       "    <tr>\n",
       "      <th>1</th>\n",
       "      <td>oneplus</td>\n",
       "      <td>OnePlus Nord CE 2 Lite 5G</td>\n",
       "      <td>19989</td>\n",
       "      <td>81.0</td>\n",
       "      <td>True</td>\n",
       "      <td>False</td>\n",
       "      <td>False</td>\n",
       "      <td>snapdragon</td>\n",
       "      <td>8.0</td>\n",
       "      <td>2.2</td>\n",
       "      <td>...</td>\n",
       "      <td>6.59</td>\n",
       "      <td>120</td>\n",
       "      <td>1080 x 2412</td>\n",
       "      <td>3</td>\n",
       "      <td>1.0</td>\n",
       "      <td>android</td>\n",
       "      <td>64.0</td>\n",
       "      <td>16.0</td>\n",
       "      <td>1</td>\n",
       "      <td>1024.0</td>\n",
       "    </tr>\n",
       "    <tr>\n",
       "      <th>2</th>\n",
       "      <td>samsung</td>\n",
       "      <td>Samsung Galaxy A14 5G</td>\n",
       "      <td>16499</td>\n",
       "      <td>75.0</td>\n",
       "      <td>True</td>\n",
       "      <td>False</td>\n",
       "      <td>False</td>\n",
       "      <td>exynos</td>\n",
       "      <td>8.0</td>\n",
       "      <td>2.4</td>\n",
       "      <td>...</td>\n",
       "      <td>6.60</td>\n",
       "      <td>90</td>\n",
       "      <td>1080 x 2408</td>\n",
       "      <td>3</td>\n",
       "      <td>1.0</td>\n",
       "      <td>android</td>\n",
       "      <td>50.0</td>\n",
       "      <td>13.0</td>\n",
       "      <td>1</td>\n",
       "      <td>1024.0</td>\n",
       "    </tr>\n",
       "    <tr>\n",
       "      <th>3</th>\n",
       "      <td>motorola</td>\n",
       "      <td>Motorola Moto G62 5G</td>\n",
       "      <td>14999</td>\n",
       "      <td>81.0</td>\n",
       "      <td>True</td>\n",
       "      <td>False</td>\n",
       "      <td>False</td>\n",
       "      <td>snapdragon</td>\n",
       "      <td>8.0</td>\n",
       "      <td>2.2</td>\n",
       "      <td>...</td>\n",
       "      <td>6.55</td>\n",
       "      <td>120</td>\n",
       "      <td>1080 x 2400</td>\n",
       "      <td>3</td>\n",
       "      <td>1.0</td>\n",
       "      <td>android</td>\n",
       "      <td>50.0</td>\n",
       "      <td>16.0</td>\n",
       "      <td>1</td>\n",
       "      <td>1024.0</td>\n",
       "    </tr>\n",
       "    <tr>\n",
       "      <th>4</th>\n",
       "      <td>realme</td>\n",
       "      <td>Realme 10 Pro Plus</td>\n",
       "      <td>24999</td>\n",
       "      <td>82.0</td>\n",
       "      <td>True</td>\n",
       "      <td>False</td>\n",
       "      <td>False</td>\n",
       "      <td>dimensity</td>\n",
       "      <td>8.0</td>\n",
       "      <td>2.6</td>\n",
       "      <td>...</td>\n",
       "      <td>6.70</td>\n",
       "      <td>120</td>\n",
       "      <td>1080 x 2412</td>\n",
       "      <td>3</td>\n",
       "      <td>1.0</td>\n",
       "      <td>android</td>\n",
       "      <td>108.0</td>\n",
       "      <td>16.0</td>\n",
       "      <td>0</td>\n",
       "      <td>NaN</td>\n",
       "    </tr>\n",
       "  </tbody>\n",
       "</table>\n",
       "<p>5 rows × 25 columns</p>\n",
       "</div>"
      ],
      "text/plain": [
       "  brand_name                      model  price  rating  has_5g  has_nfc  \\\n",
       "0    oneplus              OnePlus 11 5G  54999    89.0    True     True   \n",
       "1    oneplus  OnePlus Nord CE 2 Lite 5G  19989    81.0    True    False   \n",
       "2    samsung      Samsung Galaxy A14 5G  16499    75.0    True    False   \n",
       "3   motorola       Motorola Moto G62 5G  14999    81.0    True    False   \n",
       "4     realme         Realme 10 Pro Plus  24999    82.0    True    False   \n",
       "\n",
       "   has_ir_blaster processor_brand  num_cores  processor_speed  ...  \\\n",
       "0           False      snapdragon        8.0              3.2  ...   \n",
       "1           False      snapdragon        8.0              2.2  ...   \n",
       "2           False          exynos        8.0              2.4  ...   \n",
       "3           False      snapdragon        8.0              2.2  ...   \n",
       "4           False       dimensity        8.0              2.6  ...   \n",
       "\n",
       "   screen_size  refresh_rate    resolution  num_rear_cameras  \\\n",
       "0         6.70           120  1440 x 3216                  3   \n",
       "1         6.59           120  1080 x 2412                  3   \n",
       "2         6.60            90  1080 x 2408                  3   \n",
       "3         6.55           120  1080 x 2400                  3   \n",
       "4         6.70           120  1080 x 2412                  3   \n",
       "\n",
       "   num_front_cameras       os  primary_camera_rear primary_camera_front  \\\n",
       "0                1.0  android                 50.0                 16.0   \n",
       "1                1.0  android                 64.0                 16.0   \n",
       "2                1.0  android                 50.0                 13.0   \n",
       "3                1.0  android                 50.0                 16.0   \n",
       "4                1.0  android                108.0                 16.0   \n",
       "\n",
       "   extended_memory_available  extended_upto  \n",
       "0                          0            NaN  \n",
       "1                          1         1024.0  \n",
       "2                          1         1024.0  \n",
       "3                          1         1024.0  \n",
       "4                          0            NaN  \n",
       "\n",
       "[5 rows x 25 columns]"
      ]
     },
     "execution_count": 9,
     "metadata": {},
     "output_type": "execute_result"
    }
   ],
   "source": [
    "smartphones.head(5)"
   ]
  },
  {
   "cell_type": "code",
   "execution_count": 10,
   "metadata": {},
   "outputs": [],
   "source": [
    "# sns.pairplot(smartphones)"
   ]
  },
  {
   "cell_type": "code",
   "execution_count": null,
   "metadata": {},
   "outputs": [],
   "source": []
  },
  {
   "cell_type": "code",
   "execution_count": 11,
   "metadata": {},
   "outputs": [
    {
     "data": {
      "text/plain": [
       "brand_name                     0\n",
       "model                          0\n",
       "price                          0\n",
       "rating                       101\n",
       "has_5g                         0\n",
       "has_nfc                        0\n",
       "has_ir_blaster                 0\n",
       "processor_brand               20\n",
       "num_cores                      6\n",
       "processor_speed               42\n",
       "battery_capacity              11\n",
       "fast_charging_available        0\n",
       "fast_charging                211\n",
       "ram_capacity                   0\n",
       "internal_memory                0\n",
       "screen_size                    0\n",
       "refresh_rate                   0\n",
       "resolution                     0\n",
       "num_rear_cameras               0\n",
       "num_front_cameras              4\n",
       "os                            14\n",
       "primary_camera_rear            0\n",
       "primary_camera_front           5\n",
       "extended_memory_available      0\n",
       "extended_upto                480\n",
       "dtype: int64"
      ]
     },
     "execution_count": 11,
     "metadata": {},
     "output_type": "execute_result"
    }
   ],
   "source": [
    "null_values_per_column = smartphones.isnull().sum()\n",
    "null_values_per_column"
   ]
  },
  {
   "cell_type": "code",
   "execution_count": 12,
   "metadata": {},
   "outputs": [],
   "source": [
    "###HOW WE ARE DEALING WITH NULL DATA\n",
    "#rating - we will mean the ratings of that smartphone of same brand\n",
    "#processor_brand - same processor_brand as smartphone_brand, if brand uses multiple processor, then based on processor_speed (we can leave this as it is categorila value)\n",
    "#num_cores - mean of num_cores of same_processor brand\n",
    "#processor_speed - mean of the processor of the same processor\n",
    "#battery capacity - mean of battery capacity\n",
    "# num of front camera - will assign 1 (assuming smartphone will have atleast 1 camera)\n",
    "# fast charging - Null(means no fast charging). \n",
    "    #If fast_charging_available = 1 => mean of fast_charging of processor_brand\n",
    "    #If fast_charging_available = 0 => monimun value of that column\n",
    "# os - will be based on brand name (can be left)\n",
    "# primary camera front - based on mean of same_brand\n",
    "# extend_memory_upto = internal memory\n",
    "\n",
    "##After filling each na_values we will check if there is any null value left"
   ]
  },
  {
   "cell_type": "code",
   "execution_count": 13,
   "metadata": {},
   "outputs": [
    {
     "name": "stdout",
     "output_type": "stream",
     "text": [
      "number of brands are  46\n",
      "brand_name\n",
      "duoqin       1\n",
      "leitz        1\n",
      "cat          1\n",
      "sharp        1\n",
      "blackview    1\n",
      "Name: count, dtype: int64\n"
     ]
    }
   ],
   "source": [
    "brands = smartphones['brand_name'].unique()\n",
    "print(f\"number of brands are  {len(brands)}\")\n",
    "count_brands = smartphones['brand_name'].value_counts().sort_values(ascending=False)\n",
    "print(count_brands.tail(5))"
   ]
  },
  {
   "cell_type": "code",
   "execution_count": 14,
   "metadata": {},
   "outputs": [],
   "source": [
    "##rating\n",
    "mean_rating = smartphones.groupby('brand_name')['rating'].transform('mean')\n",
    "smartphones['rating'] = smartphones['rating'].fillna(mean_rating)"
   ]
  },
  {
   "cell_type": "code",
   "execution_count": 15,
   "metadata": {},
   "outputs": [
    {
     "data": {
      "text/plain": [
       "rating                    2\n",
       "processor_brand          20\n",
       "num_cores                 6\n",
       "processor_speed          42\n",
       "battery_capacity         11\n",
       "fast_charging           211\n",
       "num_front_cameras         4\n",
       "os                       14\n",
       "primary_camera_front      5\n",
       "extended_upto           480\n",
       "dtype: int64"
      ]
     },
     "execution_count": 15,
     "metadata": {},
     "output_type": "execute_result"
    }
   ],
   "source": [
    "null_values_per_column = smartphones.isnull().sum()\n",
    "still_null_values_per_column = null_values_per_column[null_values_per_column > 0] \n",
    "still_null_values_per_column"
   ]
  },
  {
   "cell_type": "code",
   "execution_count": 16,
   "metadata": {},
   "outputs": [
    {
     "data": {
      "text/html": [
       "<div>\n",
       "<style scoped>\n",
       "    .dataframe tbody tr th:only-of-type {\n",
       "        vertical-align: middle;\n",
       "    }\n",
       "\n",
       "    .dataframe tbody tr th {\n",
       "        vertical-align: top;\n",
       "    }\n",
       "\n",
       "    .dataframe thead th {\n",
       "        text-align: right;\n",
       "    }\n",
       "</style>\n",
       "<table border=\"1\" class=\"dataframe\">\n",
       "  <thead>\n",
       "    <tr style=\"text-align: right;\">\n",
       "      <th></th>\n",
       "      <th>brand_name</th>\n",
       "      <th>model</th>\n",
       "      <th>price</th>\n",
       "      <th>rating</th>\n",
       "      <th>has_5g</th>\n",
       "      <th>has_nfc</th>\n",
       "      <th>has_ir_blaster</th>\n",
       "      <th>processor_brand</th>\n",
       "      <th>num_cores</th>\n",
       "      <th>processor_speed</th>\n",
       "      <th>...</th>\n",
       "      <th>screen_size</th>\n",
       "      <th>refresh_rate</th>\n",
       "      <th>resolution</th>\n",
       "      <th>num_rear_cameras</th>\n",
       "      <th>num_front_cameras</th>\n",
       "      <th>os</th>\n",
       "      <th>primary_camera_rear</th>\n",
       "      <th>primary_camera_front</th>\n",
       "      <th>extended_memory_available</th>\n",
       "      <th>extended_upto</th>\n",
       "    </tr>\n",
       "  </thead>\n",
       "  <tbody>\n",
       "    <tr>\n",
       "      <th>190</th>\n",
       "      <td>duoqin</td>\n",
       "      <td>Duoqin F22 Pro</td>\n",
       "      <td>9990</td>\n",
       "      <td>NaN</td>\n",
       "      <td>False</td>\n",
       "      <td>False</td>\n",
       "      <td>False</td>\n",
       "      <td>helio</td>\n",
       "      <td>8.0</td>\n",
       "      <td>2.0</td>\n",
       "      <td>...</td>\n",
       "      <td>3.54</td>\n",
       "      <td>60</td>\n",
       "      <td>640 x 960</td>\n",
       "      <td>1</td>\n",
       "      <td>1.0</td>\n",
       "      <td>android</td>\n",
       "      <td>8.0</td>\n",
       "      <td>2.0</td>\n",
       "      <td>1</td>\n",
       "      <td>NaN</td>\n",
       "    </tr>\n",
       "    <tr>\n",
       "      <th>817</th>\n",
       "      <td>cat</td>\n",
       "      <td>CAT S22 Flip</td>\n",
       "      <td>14999</td>\n",
       "      <td>NaN</td>\n",
       "      <td>False</td>\n",
       "      <td>False</td>\n",
       "      <td>False</td>\n",
       "      <td>snapdragon</td>\n",
       "      <td>4.0</td>\n",
       "      <td>1.3</td>\n",
       "      <td>...</td>\n",
       "      <td>4.00</td>\n",
       "      <td>60</td>\n",
       "      <td>480 x 640</td>\n",
       "      <td>1</td>\n",
       "      <td>1.0</td>\n",
       "      <td>NaN</td>\n",
       "      <td>5.0</td>\n",
       "      <td>2.0</td>\n",
       "      <td>0</td>\n",
       "      <td>NaN</td>\n",
       "    </tr>\n",
       "  </tbody>\n",
       "</table>\n",
       "<p>2 rows × 25 columns</p>\n",
       "</div>"
      ],
      "text/plain": [
       "    brand_name           model  price  rating  has_5g  has_nfc  \\\n",
       "190     duoqin  Duoqin F22 Pro   9990     NaN   False    False   \n",
       "817        cat    CAT S22 Flip  14999     NaN   False    False   \n",
       "\n",
       "     has_ir_blaster processor_brand  num_cores  processor_speed  ...  \\\n",
       "190           False           helio        8.0              2.0  ...   \n",
       "817           False      snapdragon        4.0              1.3  ...   \n",
       "\n",
       "     screen_size  refresh_rate  resolution  num_rear_cameras  \\\n",
       "190         3.54            60  640 x 960                  1   \n",
       "817         4.00            60  480 x 640                  1   \n",
       "\n",
       "     num_front_cameras       os  primary_camera_rear primary_camera_front  \\\n",
       "190                1.0  android                  8.0                  2.0   \n",
       "817                1.0      NaN                  5.0                  2.0   \n",
       "\n",
       "     extended_memory_available  extended_upto  \n",
       "190                          1            NaN  \n",
       "817                          0            NaN  \n",
       "\n",
       "[2 rows x 25 columns]"
      ]
     },
     "execution_count": 16,
     "metadata": {},
     "output_type": "execute_result"
    }
   ],
   "source": [
    "smartphones[smartphones['rating'].isnull()] ###there are 2 companies which only occurs only once and thus no mean, let's see later what to do for this"
   ]
  },
  {
   "cell_type": "code",
   "execution_count": null,
   "metadata": {},
   "outputs": [],
   "source": []
  },
  {
   "cell_type": "code",
   "execution_count": 17,
   "metadata": {},
   "outputs": [
    {
     "data": {
      "text/html": [
       "<div>\n",
       "<style scoped>\n",
       "    .dataframe tbody tr th:only-of-type {\n",
       "        vertical-align: middle;\n",
       "    }\n",
       "\n",
       "    .dataframe tbody tr th {\n",
       "        vertical-align: top;\n",
       "    }\n",
       "\n",
       "    .dataframe thead th {\n",
       "        text-align: right;\n",
       "    }\n",
       "</style>\n",
       "<table border=\"1\" class=\"dataframe\">\n",
       "  <thead>\n",
       "    <tr style=\"text-align: right;\">\n",
       "      <th></th>\n",
       "      <th>processor_brand</th>\n",
       "      <th>brand_name</th>\n",
       "      <th>processor_speed</th>\n",
       "    </tr>\n",
       "  </thead>\n",
       "  <tbody>\n",
       "    <tr>\n",
       "      <th>13</th>\n",
       "      <td>dimensity</td>\n",
       "      <td>samsung</td>\n",
       "      <td>2.272727</td>\n",
       "    </tr>\n",
       "    <tr>\n",
       "      <th>17</th>\n",
       "      <td>exynos</td>\n",
       "      <td>samsung</td>\n",
       "      <td>2.458043</td>\n",
       "    </tr>\n",
       "    <tr>\n",
       "      <th>34</th>\n",
       "      <td>helio</td>\n",
       "      <td>samsung</td>\n",
       "      <td>2.165000</td>\n",
       "    </tr>\n",
       "    <tr>\n",
       "      <th>41</th>\n",
       "      <td>mediatek</td>\n",
       "      <td>samsung</td>\n",
       "      <td>1.500000</td>\n",
       "    </tr>\n",
       "    <tr>\n",
       "      <th>64</th>\n",
       "      <td>snapdragon</td>\n",
       "      <td>samsung</td>\n",
       "      <td>2.731765</td>\n",
       "    </tr>\n",
       "    <tr>\n",
       "      <th>85</th>\n",
       "      <td>unisoc</td>\n",
       "      <td>samsung</td>\n",
       "      <td>1.600000</td>\n",
       "    </tr>\n",
       "  </tbody>\n",
       "</table>\n",
       "</div>"
      ],
      "text/plain": [
       "   processor_brand brand_name  processor_speed\n",
       "13       dimensity    samsung         2.272727\n",
       "17          exynos    samsung         2.458043\n",
       "34           helio    samsung         2.165000\n",
       "41        mediatek    samsung         1.500000\n",
       "64      snapdragon    samsung         2.731765\n",
       "85          unisoc    samsung         1.600000"
      ]
     },
     "execution_count": 17,
     "metadata": {},
     "output_type": "execute_result"
    }
   ],
   "source": [
    "##processor_brand\n",
    "mean_processor_brand = smartphones.groupby(['processor_brand','brand_name'])['processor_speed'].mean().reset_index()\n",
    "mean_processor_brand[mean_processor_brand['brand_name'] == 'samsung']\n"
   ]
  },
  {
   "cell_type": "code",
   "execution_count": 18,
   "metadata": {},
   "outputs": [
    {
     "name": "stderr",
     "output_type": "stream",
     "text": [
      "/var/folders/hl/ht9hvb793tj49dhlj72lcgz00000gn/T/ipykernel_26097/4269006475.py:7: FutureWarning: The behavior of Series.argsort in the presence of NA values is deprecated. In a future version, NA values will be ordered last instead of set to -1.\n",
      "  (brand_data['processor_speed'] - row['processor_speed']).abs().argsort()[:1]\n",
      "/var/folders/hl/ht9hvb793tj49dhlj72lcgz00000gn/T/ipykernel_26097/4269006475.py:7: FutureWarning: The behavior of Series.argsort in the presence of NA values is deprecated. In a future version, NA values will be ordered last instead of set to -1.\n",
      "  (brand_data['processor_speed'] - row['processor_speed']).abs().argsort()[:1]\n",
      "/var/folders/hl/ht9hvb793tj49dhlj72lcgz00000gn/T/ipykernel_26097/4269006475.py:7: FutureWarning: The behavior of Series.argsort in the presence of NA values is deprecated. In a future version, NA values will be ordered last instead of set to -1.\n",
      "  (brand_data['processor_speed'] - row['processor_speed']).abs().argsort()[:1]\n",
      "/var/folders/hl/ht9hvb793tj49dhlj72lcgz00000gn/T/ipykernel_26097/4269006475.py:7: FutureWarning: The behavior of Series.argsort in the presence of NA values is deprecated. In a future version, NA values will be ordered last instead of set to -1.\n",
      "  (brand_data['processor_speed'] - row['processor_speed']).abs().argsort()[:1]\n",
      "/var/folders/hl/ht9hvb793tj49dhlj72lcgz00000gn/T/ipykernel_26097/4269006475.py:7: FutureWarning: The behavior of Series.argsort in the presence of NA values is deprecated. In a future version, NA values will be ordered last instead of set to -1.\n",
      "  (brand_data['processor_speed'] - row['processor_speed']).abs().argsort()[:1]\n",
      "/var/folders/hl/ht9hvb793tj49dhlj72lcgz00000gn/T/ipykernel_26097/4269006475.py:7: FutureWarning: The behavior of Series.argsort in the presence of NA values is deprecated. In a future version, NA values will be ordered last instead of set to -1.\n",
      "  (brand_data['processor_speed'] - row['processor_speed']).abs().argsort()[:1]\n",
      "/var/folders/hl/ht9hvb793tj49dhlj72lcgz00000gn/T/ipykernel_26097/4269006475.py:7: FutureWarning: The behavior of Series.argsort in the presence of NA values is deprecated. In a future version, NA values will be ordered last instead of set to -1.\n",
      "  (brand_data['processor_speed'] - row['processor_speed']).abs().argsort()[:1]\n",
      "/var/folders/hl/ht9hvb793tj49dhlj72lcgz00000gn/T/ipykernel_26097/4269006475.py:7: FutureWarning: The behavior of Series.argsort in the presence of NA values is deprecated. In a future version, NA values will be ordered last instead of set to -1.\n",
      "  (brand_data['processor_speed'] - row['processor_speed']).abs().argsort()[:1]\n"
     ]
    }
   ],
   "source": [
    "\n",
    "def assign_processor_brand(row):\n",
    "    if pd.isnull(row['processor_brand']):\n",
    "        brand_data = mean_processor_brand[mean_processor_brand['brand_name'] == row['brand_name']]\n",
    "        \n",
    "        if not brand_data.empty:\n",
    "            closest_processor = brand_data.iloc[\n",
    "                (brand_data['processor_speed'] - row['processor_speed']).abs().argsort()[:1]\n",
    "            ]\n",
    "            return closest_processor['processor_brand'].values[0]\n",
    "    return row['processor_brand']\n",
    "\n",
    "# Applying the function\n",
    "smartphones['processor_brand'] = smartphones.apply(assign_processor_brand, axis=1)\n",
    "\n",
    "\n"
   ]
  },
  {
   "cell_type": "code",
   "execution_count": 19,
   "metadata": {},
   "outputs": [
    {
     "name": "stdout",
     "output_type": "stream",
     "text": [
      "rating                    2\n",
      "processor_brand           4\n",
      "num_cores                 6\n",
      "processor_speed          42\n",
      "battery_capacity         11\n",
      "fast_charging           211\n",
      "num_front_cameras         4\n",
      "os                       14\n",
      "primary_camera_front      5\n",
      "extended_upto           480\n",
      "dtype: int64\n"
     ]
    }
   ],
   "source": [
    "null_values_per_column = smartphones.isnull().sum()\n",
    "print(null_values_per_column[null_values_per_column > 0])"
   ]
  },
  {
   "cell_type": "code",
   "execution_count": 20,
   "metadata": {},
   "outputs": [
    {
     "data": {
      "text/html": [
       "<div>\n",
       "<style scoped>\n",
       "    .dataframe tbody tr th:only-of-type {\n",
       "        vertical-align: middle;\n",
       "    }\n",
       "\n",
       "    .dataframe tbody tr th {\n",
       "        vertical-align: top;\n",
       "    }\n",
       "\n",
       "    .dataframe thead th {\n",
       "        text-align: right;\n",
       "    }\n",
       "</style>\n",
       "<table border=\"1\" class=\"dataframe\">\n",
       "  <thead>\n",
       "    <tr style=\"text-align: right;\">\n",
       "      <th></th>\n",
       "      <th>brand_name</th>\n",
       "      <th>model</th>\n",
       "      <th>price</th>\n",
       "      <th>rating</th>\n",
       "      <th>has_5g</th>\n",
       "      <th>has_nfc</th>\n",
       "      <th>has_ir_blaster</th>\n",
       "      <th>processor_brand</th>\n",
       "      <th>num_cores</th>\n",
       "      <th>processor_speed</th>\n",
       "      <th>...</th>\n",
       "      <th>screen_size</th>\n",
       "      <th>refresh_rate</th>\n",
       "      <th>resolution</th>\n",
       "      <th>num_rear_cameras</th>\n",
       "      <th>num_front_cameras</th>\n",
       "      <th>os</th>\n",
       "      <th>primary_camera_rear</th>\n",
       "      <th>primary_camera_front</th>\n",
       "      <th>extended_memory_available</th>\n",
       "      <th>extended_upto</th>\n",
       "    </tr>\n",
       "  </thead>\n",
       "  <tbody>\n",
       "    <tr>\n",
       "      <th>118</th>\n",
       "      <td>tesla</td>\n",
       "      <td>Tesla Pi Phone</td>\n",
       "      <td>69999</td>\n",
       "      <td>83.0</td>\n",
       "      <td>True</td>\n",
       "      <td>True</td>\n",
       "      <td>False</td>\n",
       "      <td>NaN</td>\n",
       "      <td>8.0</td>\n",
       "      <td>NaN</td>\n",
       "      <td>...</td>\n",
       "      <td>6.73</td>\n",
       "      <td>165</td>\n",
       "      <td>1080 x 2448</td>\n",
       "      <td>3</td>\n",
       "      <td>1.0</td>\n",
       "      <td>android</td>\n",
       "      <td>50.0</td>\n",
       "      <td>32.0</td>\n",
       "      <td>0</td>\n",
       "      <td>NaN</td>\n",
       "    </tr>\n",
       "    <tr>\n",
       "      <th>187</th>\n",
       "      <td>ikall</td>\n",
       "      <td>iKall Z19 Pro</td>\n",
       "      <td>8099</td>\n",
       "      <td>60.0</td>\n",
       "      <td>False</td>\n",
       "      <td>False</td>\n",
       "      <td>False</td>\n",
       "      <td>NaN</td>\n",
       "      <td>4.0</td>\n",
       "      <td>1.6</td>\n",
       "      <td>...</td>\n",
       "      <td>6.50</td>\n",
       "      <td>60</td>\n",
       "      <td>720 x 1600</td>\n",
       "      <td>1</td>\n",
       "      <td>1.0</td>\n",
       "      <td>android</td>\n",
       "      <td>13.0</td>\n",
       "      <td>8.0</td>\n",
       "      <td>1</td>\n",
       "      <td>128.0</td>\n",
       "    </tr>\n",
       "    <tr>\n",
       "      <th>733</th>\n",
       "      <td>ikall</td>\n",
       "      <td>iKall Z19</td>\n",
       "      <td>7999</td>\n",
       "      <td>61.0</td>\n",
       "      <td>False</td>\n",
       "      <td>False</td>\n",
       "      <td>False</td>\n",
       "      <td>NaN</td>\n",
       "      <td>4.0</td>\n",
       "      <td>1.6</td>\n",
       "      <td>...</td>\n",
       "      <td>6.50</td>\n",
       "      <td>60</td>\n",
       "      <td>720 x 1600</td>\n",
       "      <td>1</td>\n",
       "      <td>1.0</td>\n",
       "      <td>android</td>\n",
       "      <td>20.0</td>\n",
       "      <td>13.0</td>\n",
       "      <td>1</td>\n",
       "      <td>128.0</td>\n",
       "    </tr>\n",
       "    <tr>\n",
       "      <th>965</th>\n",
       "      <td>ikall</td>\n",
       "      <td>iKall Z18</td>\n",
       "      <td>6799</td>\n",
       "      <td>61.0</td>\n",
       "      <td>False</td>\n",
       "      <td>False</td>\n",
       "      <td>False</td>\n",
       "      <td>NaN</td>\n",
       "      <td>4.0</td>\n",
       "      <td>1.3</td>\n",
       "      <td>...</td>\n",
       "      <td>6.82</td>\n",
       "      <td>60</td>\n",
       "      <td>720 x 1560</td>\n",
       "      <td>1</td>\n",
       "      <td>1.0</td>\n",
       "      <td>android</td>\n",
       "      <td>20.0</td>\n",
       "      <td>13.0</td>\n",
       "      <td>1</td>\n",
       "      <td>64.0</td>\n",
       "    </tr>\n",
       "  </tbody>\n",
       "</table>\n",
       "<p>4 rows × 25 columns</p>\n",
       "</div>"
      ],
      "text/plain": [
       "    brand_name           model  price  rating  has_5g  has_nfc  \\\n",
       "118      tesla  Tesla Pi Phone  69999    83.0    True     True   \n",
       "187      ikall   iKall Z19 Pro   8099    60.0   False    False   \n",
       "733      ikall       iKall Z19   7999    61.0   False    False   \n",
       "965      ikall       iKall Z18   6799    61.0   False    False   \n",
       "\n",
       "     has_ir_blaster processor_brand  num_cores  processor_speed  ...  \\\n",
       "118           False             NaN        8.0              NaN  ...   \n",
       "187           False             NaN        4.0              1.6  ...   \n",
       "733           False             NaN        4.0              1.6  ...   \n",
       "965           False             NaN        4.0              1.3  ...   \n",
       "\n",
       "     screen_size  refresh_rate    resolution  num_rear_cameras  \\\n",
       "118         6.73           165  1080 x 2448                  3   \n",
       "187         6.50            60   720 x 1600                  1   \n",
       "733         6.50            60   720 x 1600                  1   \n",
       "965         6.82            60   720 x 1560                  1   \n",
       "\n",
       "     num_front_cameras       os  primary_camera_rear primary_camera_front  \\\n",
       "118                1.0  android                 50.0                 32.0   \n",
       "187                1.0  android                 13.0                  8.0   \n",
       "733                1.0  android                 20.0                 13.0   \n",
       "965                1.0  android                 20.0                 13.0   \n",
       "\n",
       "     extended_memory_available  extended_upto  \n",
       "118                          0            NaN  \n",
       "187                          1          128.0  \n",
       "733                          1          128.0  \n",
       "965                          1           64.0  \n",
       "\n",
       "[4 rows x 25 columns]"
      ]
     },
     "execution_count": 20,
     "metadata": {},
     "output_type": "execute_result"
    }
   ],
   "source": [
    "smartphones[smartphones['processor_brand'].isnull()] ### these 4 smartphone companies are occuring only once with no data, that's why problem"
   ]
  },
  {
   "cell_type": "code",
   "execution_count": 21,
   "metadata": {},
   "outputs": [],
   "source": [
    "###Num of cores\n",
    "mean_cores = smartphones.groupby('processor_brand')['num_cores'].transform('mean')\n",
    "smartphones['num_cores'] = smartphones['num_cores'].fillna(mean_cores)\n"
   ]
  },
  {
   "cell_type": "code",
   "execution_count": 22,
   "metadata": {},
   "outputs": [
    {
     "name": "stdout",
     "output_type": "stream",
     "text": [
      "rating                    2\n",
      "processor_brand           4\n",
      "processor_speed          42\n",
      "battery_capacity         11\n",
      "fast_charging           211\n",
      "num_front_cameras         4\n",
      "os                       14\n",
      "primary_camera_front      5\n",
      "extended_upto           480\n",
      "dtype: int64\n"
     ]
    }
   ],
   "source": [
    "null_values_per_column = smartphones.isnull().sum()\n",
    "print(null_values_per_column[null_values_per_column > 0])"
   ]
  },
  {
   "cell_type": "code",
   "execution_count": 23,
   "metadata": {},
   "outputs": [],
   "source": [
    "##processor_speed\n",
    "mean_processor_speed = smartphones.groupby('processor_brand')['processor_speed'].transform('mean')\n",
    "smartphones['processor_speed'] = smartphones['processor_speed'].fillna(mean_cores)\n"
   ]
  },
  {
   "cell_type": "code",
   "execution_count": 24,
   "metadata": {},
   "outputs": [
    {
     "name": "stdout",
     "output_type": "stream",
     "text": [
      "rating                    2\n",
      "processor_brand           4\n",
      "processor_speed           1\n",
      "battery_capacity         11\n",
      "fast_charging           211\n",
      "num_front_cameras         4\n",
      "os                       14\n",
      "primary_camera_front      5\n",
      "extended_upto           480\n",
      "dtype: int64\n"
     ]
    }
   ],
   "source": [
    "null_values_per_column = smartphones.isnull().sum()\n",
    "print(null_values_per_column[null_values_per_column > 0])"
   ]
  },
  {
   "cell_type": "code",
   "execution_count": 25,
   "metadata": {},
   "outputs": [],
   "source": [
    "smartphones['battery_capacity'] = smartphones['battery_capacity'].fillna(smartphones['battery_capacity'].mean())"
   ]
  },
  {
   "cell_type": "code",
   "execution_count": 26,
   "metadata": {},
   "outputs": [
    {
     "name": "stdout",
     "output_type": "stream",
     "text": [
      "rating                    2\n",
      "processor_brand           4\n",
      "processor_speed           1\n",
      "fast_charging           211\n",
      "num_front_cameras         4\n",
      "os                       14\n",
      "primary_camera_front      5\n",
      "extended_upto           480\n",
      "dtype: int64\n"
     ]
    }
   ],
   "source": [
    "null_values_per_column = smartphones.isnull().sum()\n",
    "print(null_values_per_column[null_values_per_column > 0])"
   ]
  },
  {
   "cell_type": "code",
   "execution_count": 27,
   "metadata": {},
   "outputs": [],
   "source": [
    "smartphones['num_front_cameras'] = smartphones['num_front_cameras'].fillna(1)"
   ]
  },
  {
   "cell_type": "code",
   "execution_count": 28,
   "metadata": {},
   "outputs": [
    {
     "name": "stdout",
     "output_type": "stream",
     "text": [
      "rating                    2\n",
      "processor_brand           4\n",
      "processor_speed           1\n",
      "fast_charging           211\n",
      "os                       14\n",
      "primary_camera_front      5\n",
      "extended_upto           480\n",
      "dtype: int64\n"
     ]
    }
   ],
   "source": [
    "null_values_per_column = smartphones.isnull().sum()\n",
    "print(null_values_per_column[null_values_per_column > 0])"
   ]
  },
  {
   "cell_type": "code",
   "execution_count": 29,
   "metadata": {},
   "outputs": [],
   "source": [
    "###os\n",
    "os_brand = smartphones.groupby(['os','brand_name']).size().reset_index(name='count')\n",
    "#os_brand"
   ]
  },
  {
   "cell_type": "code",
   "execution_count": 30,
   "metadata": {},
   "outputs": [],
   "source": [
    "mode_os = smartphones.groupby('brand_name')['os'].agg(lambda x: x.mode()[0] if not x.mode().empty else np.nan)\n",
    "\n",
    "\n",
    "def fill_os(row):\n",
    "    if pd.isnull(row['os']):\n",
    "        return mode_os[row['brand_name']]\n",
    "    return row['os']\n",
    "\n",
    "smartphones['os'] = smartphones.apply(fill_os, axis=1)"
   ]
  },
  {
   "cell_type": "code",
   "execution_count": 31,
   "metadata": {},
   "outputs": [
    {
     "name": "stdout",
     "output_type": "stream",
     "text": [
      "rating                    2\n",
      "processor_brand           4\n",
      "processor_speed           1\n",
      "fast_charging           211\n",
      "os                        3\n",
      "primary_camera_front      5\n",
      "extended_upto           480\n",
      "dtype: int64\n"
     ]
    }
   ],
   "source": [
    "null_values_per_column = smartphones.isnull().sum()\n",
    "print(null_values_per_column[null_values_per_column > 0])"
   ]
  },
  {
   "cell_type": "code",
   "execution_count": 32,
   "metadata": {},
   "outputs": [],
   "source": [
    "smartphones['extended_upto'] = smartphones['extended_upto'].fillna(smartphones['internal_memory'])"
   ]
  },
  {
   "cell_type": "code",
   "execution_count": 33,
   "metadata": {},
   "outputs": [
    {
     "name": "stdout",
     "output_type": "stream",
     "text": [
      "rating                    2\n",
      "processor_brand           4\n",
      "processor_speed           1\n",
      "fast_charging           211\n",
      "os                        3\n",
      "primary_camera_front      5\n",
      "dtype: int64\n"
     ]
    }
   ],
   "source": [
    "null_values_per_column = smartphones.isnull().sum()\n",
    "print(null_values_per_column[null_values_per_column > 0])"
   ]
  },
  {
   "cell_type": "code",
   "execution_count": 34,
   "metadata": {},
   "outputs": [],
   "source": [
    "###primary_front_camera\n",
    "mean_primary_camera_front = smartphones.groupby('brand_name')['primary_camera_front'].transform(lambda x: int(x.mean() if not x.isnull().all() else 0))\n",
    "smartphones['primary_camera_front'] = smartphones['primary_camera_front'].fillna(mean_primary_camera_front)"
   ]
  },
  {
   "cell_type": "code",
   "execution_count": 35,
   "metadata": {},
   "outputs": [
    {
     "name": "stdout",
     "output_type": "stream",
     "text": [
      "rating               2\n",
      "processor_brand      4\n",
      "processor_speed      1\n",
      "fast_charging      211\n",
      "os                   3\n",
      "dtype: int64\n"
     ]
    }
   ],
   "source": [
    "null_values_per_column = smartphones.isnull().sum()\n",
    "print(null_values_per_column[null_values_per_column > 0])"
   ]
  },
  {
   "cell_type": "code",
   "execution_count": 36,
   "metadata": {},
   "outputs": [],
   "source": [
    "##fast_charging\n",
    "mean_fast_charging_speed_by_processor = smartphones.groupby('processor_brand')['fast_charging'].mean()\n",
    "min_fast_charging = smartphones['fast_charging'].min()\n",
    "\n",
    "def fill_fast_charging(row):\n",
    "    if pd.isna(row['fast_charging']):\n",
    "        if row['fast_charging_available'] == 1:\n",
    "            return mean_fast_charging_speed_by_processor[row['processor_brand']]\n",
    "        elif row['fast_charging_available'] == 0:\n",
    "            return min_fast_charging\n",
    "    else:\n",
    "        return row['fast_charging']\n",
    "\n",
    "smartphones['fast_charging'] = smartphones.apply(fill_fast_charging, axis =1)  \n"
   ]
  },
  {
   "cell_type": "code",
   "execution_count": 37,
   "metadata": {},
   "outputs": [
    {
     "name": "stdout",
     "output_type": "stream",
     "text": [
      "rating             2\n",
      "processor_brand    4\n",
      "processor_speed    1\n",
      "os                 3\n",
      "dtype: int64\n"
     ]
    }
   ],
   "source": [
    "null_values_per_column = smartphones.isnull().sum()\n",
    "print(null_values_per_column[null_values_per_column > 0])"
   ]
  },
  {
   "cell_type": "code",
   "execution_count": 38,
   "metadata": {},
   "outputs": [
    {
     "data": {
      "text/html": [
       "<div>\n",
       "<style scoped>\n",
       "    .dataframe tbody tr th:only-of-type {\n",
       "        vertical-align: middle;\n",
       "    }\n",
       "\n",
       "    .dataframe tbody tr th {\n",
       "        vertical-align: top;\n",
       "    }\n",
       "\n",
       "    .dataframe thead th {\n",
       "        text-align: right;\n",
       "    }\n",
       "</style>\n",
       "<table border=\"1\" class=\"dataframe\">\n",
       "  <thead>\n",
       "    <tr style=\"text-align: right;\">\n",
       "      <th></th>\n",
       "      <th>brand_name</th>\n",
       "      <th>model</th>\n",
       "      <th>price</th>\n",
       "      <th>rating</th>\n",
       "      <th>has_5g</th>\n",
       "      <th>has_nfc</th>\n",
       "      <th>has_ir_blaster</th>\n",
       "      <th>processor_brand</th>\n",
       "      <th>num_cores</th>\n",
       "      <th>processor_speed</th>\n",
       "      <th>...</th>\n",
       "      <th>screen_size</th>\n",
       "      <th>refresh_rate</th>\n",
       "      <th>resolution</th>\n",
       "      <th>num_rear_cameras</th>\n",
       "      <th>num_front_cameras</th>\n",
       "      <th>os</th>\n",
       "      <th>primary_camera_rear</th>\n",
       "      <th>primary_camera_front</th>\n",
       "      <th>extended_memory_available</th>\n",
       "      <th>extended_upto</th>\n",
       "    </tr>\n",
       "  </thead>\n",
       "  <tbody>\n",
       "    <tr>\n",
       "      <th>118</th>\n",
       "      <td>tesla</td>\n",
       "      <td>Tesla Pi Phone</td>\n",
       "      <td>69999</td>\n",
       "      <td>83.0</td>\n",
       "      <td>True</td>\n",
       "      <td>True</td>\n",
       "      <td>False</td>\n",
       "      <td>NaN</td>\n",
       "      <td>8.0</td>\n",
       "      <td>NaN</td>\n",
       "      <td>...</td>\n",
       "      <td>6.73</td>\n",
       "      <td>165</td>\n",
       "      <td>1080 x 2448</td>\n",
       "      <td>3</td>\n",
       "      <td>1.0</td>\n",
       "      <td>android</td>\n",
       "      <td>50.0</td>\n",
       "      <td>32.0</td>\n",
       "      <td>0</td>\n",
       "      <td>512.0</td>\n",
       "    </tr>\n",
       "    <tr>\n",
       "      <th>187</th>\n",
       "      <td>ikall</td>\n",
       "      <td>iKall Z19 Pro</td>\n",
       "      <td>8099</td>\n",
       "      <td>60.0</td>\n",
       "      <td>False</td>\n",
       "      <td>False</td>\n",
       "      <td>False</td>\n",
       "      <td>NaN</td>\n",
       "      <td>4.0</td>\n",
       "      <td>1.6</td>\n",
       "      <td>...</td>\n",
       "      <td>6.50</td>\n",
       "      <td>60</td>\n",
       "      <td>720 x 1600</td>\n",
       "      <td>1</td>\n",
       "      <td>1.0</td>\n",
       "      <td>android</td>\n",
       "      <td>13.0</td>\n",
       "      <td>8.0</td>\n",
       "      <td>1</td>\n",
       "      <td>128.0</td>\n",
       "    </tr>\n",
       "    <tr>\n",
       "      <th>733</th>\n",
       "      <td>ikall</td>\n",
       "      <td>iKall Z19</td>\n",
       "      <td>7999</td>\n",
       "      <td>61.0</td>\n",
       "      <td>False</td>\n",
       "      <td>False</td>\n",
       "      <td>False</td>\n",
       "      <td>NaN</td>\n",
       "      <td>4.0</td>\n",
       "      <td>1.6</td>\n",
       "      <td>...</td>\n",
       "      <td>6.50</td>\n",
       "      <td>60</td>\n",
       "      <td>720 x 1600</td>\n",
       "      <td>1</td>\n",
       "      <td>1.0</td>\n",
       "      <td>android</td>\n",
       "      <td>20.0</td>\n",
       "      <td>13.0</td>\n",
       "      <td>1</td>\n",
       "      <td>128.0</td>\n",
       "    </tr>\n",
       "    <tr>\n",
       "      <th>965</th>\n",
       "      <td>ikall</td>\n",
       "      <td>iKall Z18</td>\n",
       "      <td>6799</td>\n",
       "      <td>61.0</td>\n",
       "      <td>False</td>\n",
       "      <td>False</td>\n",
       "      <td>False</td>\n",
       "      <td>NaN</td>\n",
       "      <td>4.0</td>\n",
       "      <td>1.3</td>\n",
       "      <td>...</td>\n",
       "      <td>6.82</td>\n",
       "      <td>60</td>\n",
       "      <td>720 x 1560</td>\n",
       "      <td>1</td>\n",
       "      <td>1.0</td>\n",
       "      <td>android</td>\n",
       "      <td>20.0</td>\n",
       "      <td>13.0</td>\n",
       "      <td>1</td>\n",
       "      <td>64.0</td>\n",
       "    </tr>\n",
       "  </tbody>\n",
       "</table>\n",
       "<p>4 rows × 25 columns</p>\n",
       "</div>"
      ],
      "text/plain": [
       "    brand_name           model  price  rating  has_5g  has_nfc  \\\n",
       "118      tesla  Tesla Pi Phone  69999    83.0    True     True   \n",
       "187      ikall   iKall Z19 Pro   8099    60.0   False    False   \n",
       "733      ikall       iKall Z19   7999    61.0   False    False   \n",
       "965      ikall       iKall Z18   6799    61.0   False    False   \n",
       "\n",
       "     has_ir_blaster processor_brand  num_cores  processor_speed  ...  \\\n",
       "118           False             NaN        8.0              NaN  ...   \n",
       "187           False             NaN        4.0              1.6  ...   \n",
       "733           False             NaN        4.0              1.6  ...   \n",
       "965           False             NaN        4.0              1.3  ...   \n",
       "\n",
       "     screen_size  refresh_rate    resolution  num_rear_cameras  \\\n",
       "118         6.73           165  1080 x 2448                  3   \n",
       "187         6.50            60   720 x 1600                  1   \n",
       "733         6.50            60   720 x 1600                  1   \n",
       "965         6.82            60   720 x 1560                  1   \n",
       "\n",
       "     num_front_cameras       os  primary_camera_rear primary_camera_front  \\\n",
       "118                1.0  android                 50.0                 32.0   \n",
       "187                1.0  android                 13.0                  8.0   \n",
       "733                1.0  android                 20.0                 13.0   \n",
       "965                1.0  android                 20.0                 13.0   \n",
       "\n",
       "     extended_memory_available  extended_upto  \n",
       "118                          0          512.0  \n",
       "187                          1          128.0  \n",
       "733                          1          128.0  \n",
       "965                          1           64.0  \n",
       "\n",
       "[4 rows x 25 columns]"
      ]
     },
     "execution_count": 38,
     "metadata": {},
     "output_type": "execute_result"
    }
   ],
   "source": [
    "smartphones[smartphones['processor_brand'].isnull()]"
   ]
  },
  {
   "cell_type": "code",
   "execution_count": 39,
   "metadata": {},
   "outputs": [
    {
     "data": {
      "text/html": [
       "<div>\n",
       "<style scoped>\n",
       "    .dataframe tbody tr th:only-of-type {\n",
       "        vertical-align: middle;\n",
       "    }\n",
       "\n",
       "    .dataframe tbody tr th {\n",
       "        vertical-align: top;\n",
       "    }\n",
       "\n",
       "    .dataframe thead th {\n",
       "        text-align: right;\n",
       "    }\n",
       "</style>\n",
       "<table border=\"1\" class=\"dataframe\">\n",
       "  <thead>\n",
       "    <tr style=\"text-align: right;\">\n",
       "      <th></th>\n",
       "      <th>brand_name</th>\n",
       "      <th>model</th>\n",
       "      <th>price</th>\n",
       "      <th>rating</th>\n",
       "      <th>has_5g</th>\n",
       "      <th>has_nfc</th>\n",
       "      <th>has_ir_blaster</th>\n",
       "      <th>processor_brand</th>\n",
       "      <th>num_cores</th>\n",
       "      <th>processor_speed</th>\n",
       "      <th>...</th>\n",
       "      <th>screen_size</th>\n",
       "      <th>refresh_rate</th>\n",
       "      <th>resolution</th>\n",
       "      <th>num_rear_cameras</th>\n",
       "      <th>num_front_cameras</th>\n",
       "      <th>os</th>\n",
       "      <th>primary_camera_rear</th>\n",
       "      <th>primary_camera_front</th>\n",
       "      <th>extended_memory_available</th>\n",
       "      <th>extended_upto</th>\n",
       "    </tr>\n",
       "  </thead>\n",
       "  <tbody>\n",
       "    <tr>\n",
       "      <th>118</th>\n",
       "      <td>tesla</td>\n",
       "      <td>Tesla Pi Phone</td>\n",
       "      <td>69999</td>\n",
       "      <td>83.0</td>\n",
       "      <td>True</td>\n",
       "      <td>True</td>\n",
       "      <td>False</td>\n",
       "      <td>NaN</td>\n",
       "      <td>8.0</td>\n",
       "      <td>NaN</td>\n",
       "      <td>...</td>\n",
       "      <td>6.73</td>\n",
       "      <td>165</td>\n",
       "      <td>1080 x 2448</td>\n",
       "      <td>3</td>\n",
       "      <td>1.0</td>\n",
       "      <td>android</td>\n",
       "      <td>50.0</td>\n",
       "      <td>32.0</td>\n",
       "      <td>0</td>\n",
       "      <td>512.0</td>\n",
       "    </tr>\n",
       "  </tbody>\n",
       "</table>\n",
       "<p>1 rows × 25 columns</p>\n",
       "</div>"
      ],
      "text/plain": [
       "    brand_name           model  price  rating  has_5g  has_nfc  \\\n",
       "118      tesla  Tesla Pi Phone  69999    83.0    True     True   \n",
       "\n",
       "     has_ir_blaster processor_brand  num_cores  processor_speed  ...  \\\n",
       "118           False             NaN        8.0              NaN  ...   \n",
       "\n",
       "     screen_size  refresh_rate    resolution  num_rear_cameras  \\\n",
       "118         6.73           165  1080 x 2448                  3   \n",
       "\n",
       "     num_front_cameras       os  primary_camera_rear primary_camera_front  \\\n",
       "118                1.0  android                 50.0                 32.0   \n",
       "\n",
       "     extended_memory_available  extended_upto  \n",
       "118                          0          512.0  \n",
       "\n",
       "[1 rows x 25 columns]"
      ]
     },
     "execution_count": 39,
     "metadata": {},
     "output_type": "execute_result"
    }
   ],
   "source": [
    "smartphones[smartphones['processor_speed'].isnull()]"
   ]
  },
  {
   "cell_type": "code",
   "execution_count": 40,
   "metadata": {},
   "outputs": [],
   "source": [
    "smartphones_final = smartphones.dropna(subset= ['processor_speed'])\n"
   ]
  },
  {
   "cell_type": "code",
   "execution_count": 41,
   "metadata": {},
   "outputs": [
    {
     "name": "stderr",
     "output_type": "stream",
     "text": [
      "/var/folders/hl/ht9hvb793tj49dhlj72lcgz00000gn/T/ipykernel_26097/2402890207.py:1: SettingWithCopyWarning: \n",
      "A value is trying to be set on a copy of a slice from a DataFrame.\n",
      "Try using .loc[row_indexer,col_indexer] = value instead\n",
      "\n",
      "See the caveats in the documentation: https://pandas.pydata.org/pandas-docs/stable/user_guide/indexing.html#returning-a-view-versus-a-copy\n",
      "  smartphones_final['processor_brand'] =smartphones_final['processor_brand'].fillna('ikall_processor')\n"
     ]
    }
   ],
   "source": [
    "smartphones_final['processor_brand'] =smartphones_final['processor_brand'].fillna('ikall_processor')"
   ]
  },
  {
   "cell_type": "code",
   "execution_count": 42,
   "metadata": {},
   "outputs": [
    {
     "name": "stdout",
     "output_type": "stream",
     "text": [
      "rating    2\n",
      "os        3\n",
      "dtype: int64\n"
     ]
    }
   ],
   "source": [
    "null_values_per_column = smartphones_final.isnull().sum()\n",
    "print(null_values_per_column[null_values_per_column > 0])"
   ]
  },
  {
   "cell_type": "code",
   "execution_count": 43,
   "metadata": {},
   "outputs": [
    {
     "data": {
      "text/plain": [
       "Index(['brand_name', 'model', 'price', 'rating', 'has_5g', 'has_nfc',\n",
       "       'has_ir_blaster', 'processor_brand', 'num_cores', 'processor_speed',\n",
       "       'battery_capacity', 'fast_charging_available', 'fast_charging',\n",
       "       'ram_capacity', 'internal_memory', 'screen_size', 'refresh_rate',\n",
       "       'resolution', 'num_rear_cameras', 'num_front_cameras', 'os',\n",
       "       'primary_camera_rear', 'primary_camera_front',\n",
       "       'extended_memory_available', 'extended_upto'],\n",
       "      dtype='object')"
      ]
     },
     "execution_count": 43,
     "metadata": {},
     "output_type": "execute_result"
    }
   ],
   "source": [
    "###There is no need to remove these rows as the required columns which will we use donot have any Nan values left.\n",
    "smartphones.columns\n",
    "#######Buidling a ML model to predict the price of smartphones\n",
    "##Independent variables = brand, has_5g, has_nfc, has_ir_blaster, processor_brand, num_cores, processor_speed, battery_capcity, fast_cahrging, ram_capacity, intenal_memory, screen_size, refrsh_rate, resolution, primary_camera_rear, primary_camera_front, extended_memory_available, extended_upto\n",
    "##Dependent Variable = price "
   ]
  },
  {
   "cell_type": "code",
   "execution_count": 87,
   "metadata": {},
   "outputs": [],
   "source": [
    "from sklearn.model_selection import train_test_split\n",
    "from sklearn.preprocessing import StandardScaler, LabelEncoder, MinMaxScaler\n",
    "from sklearn.ensemble import RandomForestRegressor\n",
    "from sklearn.tree import DecisionTreeRegressor\n",
    "#import xgboost as xgb\n",
    "from sklearn.metrics import mean_squared_error"
   ]
  },
  {
   "cell_type": "code",
   "execution_count": null,
   "metadata": {},
   "outputs": [],
   "source": [
    "label_encoder = LabelEncoder()\n",
    "\n",
    "for i in ['brand_name', 'processor_brand', 'resolution']:\n",
    "    smartphones_final[i] = label_encoder.fit_transform(smartphones_final[i])"
   ]
  },
  {
   "cell_type": "code",
   "execution_count": null,
   "metadata": {},
   "outputs": [],
   "source": [
    "X = smartphones_final[['brand_name', 'has_5g', 'has_nfc',\n",
    "       'has_ir_blaster', 'processor_brand', 'num_cores', 'processor_speed',\n",
    "       'battery_capacity', 'fast_charging_available', 'fast_charging',\n",
    "       'ram_capacity', 'internal_memory', 'screen_size', 'refresh_rate',\n",
    "       'resolution','primary_camera_rear', 'primary_camera_front',\n",
    "       'extended_memory_available', 'extended_upto']]\n",
    "Y = smartphones_final['price']"
   ]
  },
  {
   "cell_type": "code",
   "execution_count": 53,
   "metadata": {},
   "outputs": [],
   "source": [
    "data = smartphones_final[['brand_name', 'has_5g', 'has_nfc',\n",
    "       'has_ir_blaster', 'processor_brand', 'num_cores', 'processor_speed',\n",
    "       'battery_capacity', 'fast_charging_available', 'fast_charging',\n",
    "       'ram_capacity', 'internal_memory', 'screen_size', 'refresh_rate',\n",
    "       'resolution','primary_camera_rear', 'primary_camera_front',\n",
    "       'extended_memory_available', 'extended_upto', 'price']]\n"
   ]
  },
  {
   "cell_type": "code",
   "execution_count": 54,
   "metadata": {},
   "outputs": [
    {
     "data": {
      "image/png": "[encoded data removed]",
      "text/plain": [
       "<Figure size 800x600 with 2 Axes>"
      ]
     },
     "metadata": {},
     "output_type": "display_data"
    }
   ],
   "source": [
    "correlation_matrix = data.corr()\n",
    "correlation_with_price = correlation_matrix[['price']].sort_values(by='price', ascending=False)\n",
    "plt.figure(figsize=(8, 6))\n",
    "sns.heatmap(correlation_with_price, annot=True, cmap='coolwarm', vmin=-1, vmax=1)\n",
    "plt.title('Correlation of Features with Price')\n",
    "plt.show()"
   ]
  },
  {
   "cell_type": "code",
   "execution_count": null,
   "metadata": {},
   "outputs": [],
   "source": []
  },
  {
   "cell_type": "code",
   "execution_count": null,
   "metadata": {},
   "outputs": [],
   "source": []
  },
  {
   "cell_type": "code",
   "execution_count": 98,
   "metadata": {},
   "outputs": [],
   "source": [
    "\n",
    "\n",
    "\n",
    "# X = smartphones_final[['brand_name', 'has_5g', 'has_nfc',\n",
    "#        'has_ir_blaster', 'processor_brand', 'num_cores', 'processor_speed',\n",
    "#        'battery_capacity', 'fast_charging_available', 'fast_charging',\n",
    "#        'ram_capacity', 'internal_memory', 'screen_size', 'refresh_rate',\n",
    "#        'resolution','primary_camera_rear', 'primary_camera_front',\n",
    "#        'extended_memory_available', 'extended_upto']]\n",
    "\n",
    "X = smartphones_final[['has_5g', 'has_nfc',\n",
    "       'processor_speed',\n",
    "       'fast_charging_available', 'fast_charging',\n",
    "       'ram_capacity', 'internal_memory', 'screen_size', 'refresh_rate','primary_camera_rear', 'primary_camera_front']]\n",
    "\n",
    "\n",
    "\n",
    "\n",
    "Y = smartphones_final['price']\n",
    "\n",
    "X_train, X_test, y_train, y_test = train_test_split(X, Y, test_size=0.2, random_state=101)\n",
    "\n",
    "scaler = MinMaxScaler()\n",
    "\n",
    "numerical_columns = ['processor_speed',\n",
    "       'fast_charging','ram_capacity', 'internal_memory', \n",
    "       'screen_size', 'refresh_rate','primary_camera_rear', 'primary_camera_front']\n",
    "\n",
    "\n",
    "\n",
    "\n",
    "X_train[numerical_columns] = scaler.fit_transform(X_train[numerical_columns])\n",
    "X_test[numerical_columns] = scaler.fit_transform(X_test[numerical_columns])\n",
    "y_train = scaler.fit_transform(y_train.values.reshape(-1, 1))\n",
    "y_test = scaler.transform(y_test.values.reshape(-1, 1))\n"
   ]
  },
  {
   "cell_type": "code",
   "execution_count": 102,
   "metadata": {},
   "outputs": [
    {
     "name": "stdout",
     "output_type": "stream",
     "text": [
      "Root Mean Squared Error for random forest is: 0.058424599110900255\n"
     ]
    },
    {
     "name": "stderr",
     "output_type": "stream",
     "text": [
      "/Users/ankur.shrivastava/Library/Python/3.9/lib/python/site-packages/sklearn/base.py:1473: DataConversionWarning: A column-vector y was passed when a 1d array was expected. Please change the shape of y to (n_samples,), for example using ravel().\n",
      "  return fit_method(estimator, *args, **kwargs)\n"
     ]
    }
   ],
   "source": [
    "##Random Forest\n",
    "model = RandomForestRegressor(n_estimators=100, random_state=101)\n",
    "model.fit(X_train, y_train)\n",
    "\n",
    "y_pred = model.predict(X_test)\n",
    "\n",
    "rmse = np.sqrt(mean_squared_error(y_test, y_pred))\n",
    "print(f'Root Mean Squared Error for random forest is: {rmse}')\n"
   ]
  },
  {
   "cell_type": "code",
   "execution_count": 105,
   "metadata": {},
   "outputs": [],
   "source": [
    "#Un-normalizing the prices\n",
    "y_pred_original = scaler.inverse_transform(y_pred.reshape(-1, 1))\n",
    "y_test_original = scaler.inverse_transform(y_test.reshape(-1, 1))"
   ]
  },
  {
   "cell_type": "code",
   "execution_count": 107,
   "metadata": {},
   "outputs": [
    {
     "data": {
      "image/png": "[encoded data removed]",
      "text/plain": [
       "<Figure size 1000x600 with 1 Axes>"
      ]
     },
     "metadata": {},
     "output_type": "display_data"
    }
   ],
   "source": [
    "plt.figure(figsize=(10, 6))\n",
    "sns.scatterplot(x=y_test_original.flatten(), y=y_pred_original.flatten())\n",
    "plt.plot([min(y_test_original), max(y_test_original)], [min(y_test_original), max(y_test_original)], color='red', linestyle='--')\n",
    "plt.xlabel('True Price')\n",
    "plt.ylabel('Predicted Price')\n",
    "plt.title('Predicted vs. Actual Price')\n",
    "plt.show()\n"
   ]
  },
  {
   "cell_type": "code",
   "execution_count": 100,
   "metadata": {},
   "outputs": [
    {
     "name": "stdout",
     "output_type": "stream",
     "text": [
      "Root Mean Squared Error for decision tree is: 0.0011642422832022384\n"
     ]
    }
   ],
   "source": [
    "##Decision Tree\n",
    "decision_tree = DecisionTreeRegressor(random_state=101)\n",
    "decision_tree.fit(X_train, y_train)\n",
    "\n",
    "y_pred_dt = decision_tree.predict(X_test)\n",
    "\n",
    "mse_dt = mean_squared_error(y_test, y_pred_dt)\n",
    "print(f'Root Mean Squared Error for decision tree is: {mse_dt}')"
   ]
  },
  {
   "cell_type": "code",
   "execution_count": 109,
   "metadata": {},
   "outputs": [],
   "source": [
    "#Un-normalizing the prices\n",
    "y_pred_dt_original = scaler.inverse_transform(y_pred_dt.reshape(-1, 1))\n",
    "y_test_original = scaler.inverse_transform(y_test.reshape(-1, 1))"
   ]
  },
  {
   "cell_type": "code",
   "execution_count": 110,
   "metadata": {},
   "outputs": [
    {
     "data": {
      "image/png": "[encoded data removed]",
      "text/plain": [
       "<Figure size 1000x600 with 1 Axes>"
      ]
     },
     "metadata": {},
     "output_type": "display_data"
    }
   ],
   "source": [
    "plt.figure(figsize=(10, 6))\n",
    "sns.scatterplot(x=y_test_original.flatten(), y=y_pred_dt_original.flatten())\n",
    "plt.plot([min(y_test_original), max(y_test_original)], [min(y_test_original), max(y_test_original)], color='red', linestyle='--')\n",
    "plt.xlabel('True Price')\n",
    "plt.ylabel('Predicted Price')\n",
    "plt.title('Predicted vs. Actual Price')\n",
    "plt.show()"
   ]
  },
  {
   "cell_type": "code",
   "execution_count": null,
   "metadata": {},
   "outputs": [],
   "source": [
    "###We can observe that the performance of both the models are comparatively fine, but Decision tree performs better"
   ]
  },
  {
   "cell_type": "code",
   "execution_count": null,
   "metadata": {},
   "outputs": [],
   "source": []
  },
  {
   "cell_type": "code",
   "execution_count": null,
   "metadata": {},
   "outputs": [],
   "source": []
  },
  {
   "cell_type": "code",
   "execution_count": null,
   "metadata": {},
   "outputs": [],
   "source": []
  }
 ],
 "metadata": {
  "kernelspec": {
   "display_name": "Python 3",
   "language": "python",
   "name": "python3"
  },
  "language_info": {
   "codemirror_mode": {
    "name": "ipython",
    "version": 3
   },
   "file_extension": ".py",
   "mimetype": "text/x-python",
   "name": "python",
   "nbconvert_exporter": "python",
   "pygments_lexer": "ipython3",
   "version": "3.9.6"
  }
 },
 "nbformat": 4,
 "nbformat_minor": 2
}
