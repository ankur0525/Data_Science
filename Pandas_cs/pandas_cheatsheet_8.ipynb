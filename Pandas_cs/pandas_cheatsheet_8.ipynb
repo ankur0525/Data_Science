{
 "cells": [
  {
   "cell_type": "code",
   "execution_count": 1,
   "metadata": {},
   "outputs": [],
   "source": [
    "import pandas as pd"
   ]
  },
  {
   "cell_type": "code",
   "execution_count": null,
   "metadata": {},
   "outputs": [],
   "source": [
    "##Working with Dates and Times\n",
    "\n",
    "# Review of Python's datetime module\n",
    "# The datetime module is built into the core Python programming language. ALias is dt\n",
    "# It includes date and datetime classses for representing dates and datetimes\n",
    "# The date constructor acccepst arguemnents for year, month and day. Python defaults to 0 for any missing values.\n",
    "# The datetime constructor accepts arguements for year, month, day, hour, minute and second\n",
    "\n",
    "import datetime as dt\n",
    "someday = dt.date(2025, 12, 15)\n",
    "someday.year\n",
    "\n",
    "sometime = dt.datetime(2025, 12, 15, 8, 13, 57) \n",
    "#Day 15th Dec, 2025 at 8:13:57\n",
    "sometime.minute"
   ]
  },
  {
   "cell_type": "code",
   "execution_count": 4,
   "metadata": {},
   "outputs": [],
   "source": [
    "import datetime as dt"
   ]
  },
  {
   "cell_type": "code",
   "execution_count": 5,
   "metadata": {},
   "outputs": [
    {
     "data": {
      "text/plain": [
       "Timestamp('2028-10-23 00:00:00')"
      ]
     },
     "execution_count": 5,
     "metadata": {},
     "output_type": "execute_result"
    }
   ],
   "source": [
    "## The Timestampp and DatetimeIndex Objects \n",
    "# pds ships with severla classes rlelated to dtetimes.\n",
    "# The Timetsamp is ~ to Python's datetime object (wiyh expnaded functionality)\n",
    "# A DatetimeIndex is an index of Timestamp objects\n",
    "# The Timestamp constructor accepts a string, a dtatetime object, or equivalent arguements to the datetime class.\n",
    "\n",
    "pd.Timestamp(2027,3, 12)\n",
    "pd.Timestamp(2027,3, 12, 18, 23, 49) #-> 18:23:49\n",
    "\n",
    "pd.Timestamp(dt.date(2028, 10, 23))\n",
    "pd.Timestamp(\"2025-01-01\")\n",
    "pd.Timestamp(\"2025/01/01\")\n",
    "pd.Timestamp(\"2023-04-08 08:35:15\") #This format accepts a wide variety of data format, so pds can handle a wide variety of data format, but it is better if we provide panda, some idea about the data\n"
   ]
  },
  {
   "cell_type": "code",
   "execution_count": 8,
   "metadata": {},
   "outputs": [
    {
     "data": {
      "text/plain": [
       "DatetimeIndex(['2025-01-01', '2025-01-02', '2025-01-03', '2025-01-06',\n",
       "               '2025-01-07'],\n",
       "              dtype='datetime64[ns]', freq='B')"
      ]
     },
     "execution_count": 8,
     "metadata": {},
     "output_type": "execute_result"
    }
   ],
   "source": [
    "## Create range of Dates with pd.date-range Function\n",
    "# the date_range function generates and returns a Datetimeindex holding a sequence of dates\n",
    "# The function require 2 of the following 3 parameters: start, end and period\n",
    "# With start and end, the Pandas will assume a daily period/interval\n",
    "# Every element within a DatetimeIndex is a Timestamp\n",
    "\n",
    "pd.date_range(start=\"2025-01-01\", end=\"2025-01-31\") # by default freq is 1 day\n",
    "pd.date_range(start=\"2025-01-01\", end=\"2025-01-31\", freq=\"2D\") # changed the freq to 2 days\n",
    "pd.date_range(start=\"2025-01-01\", end=\"2025-01-31\", freq=\"B\") # business days- Mon-Fri (very very useful)\n",
    "pd.date_range(start=\"2025-01-01\", end=\"2025-01-31\", freq=\"W\") # Weekly, but  from Sunday to Sunday, even though we have provided the start date it will take start from the day which is Sunday\n",
    "pd.date_range(start=\"2025-01-01\", end=\"2025-01-31\", freq=\"W-FRI\") # Weekly, but now from Friday to Friday\n",
    "pd.date_range(start=\"2025-01-01\", end=\"2025-01-31\", freq=\"H\") # freq is 1 hour, a very large dataset\n",
    "pd.date_range(start=\"2025-01-01\", end=\"2025-01-31\", freq=\"6H\") # freq is 6 hours\n",
    "pd.date_range(start=\"2025-01-01\", end=\"2025-12-31\", freq=\"M\") # all the month end date is dsipalyed, like 2025-01-31, 2025-02-28,...., 2025-12-31\n",
    "pd.date_range(start=\"2025-01-01\", end=\"2025-12-31\", freq=\"MS\") # start of every month\n",
    "pd.date_range(start=\"2025-01-01\", end=\"2050-12-31\", freq=\"A\") # frq is anually, last date of that year\n",
    "pd.date_range(start=\"2025-01-01\", freq=\"D\", period = 20) # period tells us how many no. we want\n",
    "pd.date_range(end=\"2025-12-31\", freq=\"D\", period = 20) # the last value will  be 2025-12-31 and the period will take 20 value before it"
   ]
  },
  {
   "cell_type": "code",
   "execution_count": 19,
   "metadata": {},
   "outputs": [
    {
     "data": {
      "text/plain": [
       "0     2000-01-01 00:00:00\n",
       "106   2007-01-01 06:00:00\n",
       "212   2014-01-01 12:00:00\n",
       "299   2019-10-01 09:00:00\n",
       "dtype: datetime64[ns]"
      ]
     },
     "execution_count": 19,
     "metadata": {},
     "output_type": "execute_result"
    }
   ],
   "source": [
    "##The dt Attribute\n",
    "# The dt attribute revelas a DatetimeProperties object with atributes/methods for working with dateteimes. It is similar to the str attribute for string methods\n",
    "# The DatetimeProperties obhect has attributes like day, month, and year to revela info. about each date in the Series\n",
    "# The day-name method returns the written day of the week. \n",
    "# Attibutes like is_month_end and is_quarter_start return Boolean Series\n",
    "\n",
    "bunch_of_dates  =pd.Series(pd.date_range(start=\"2000-01-01\", end=\"2020-12-31\", freq=\"24D 3H\" ))\n",
    "bunch_of_dates.head()\n",
    "bunch_of_dates.dt.day # we can aslo do dt.month/year/hour ,etc.\n",
    "bunch_of_dates.dt.day_of_year #tells the day is which day of that year\n",
    "bunch_of_dates.dt.day_name() #tessl the day pf the date\n",
    "bunch_of_dates.dt.is_month_start #returns a boolean\n",
    "bunch_of_dates[bunch_of_dates.dt.is_quarter_start]\n",
    "#There are much more parameters we can set and get the values"
   ]
  },
  {
   "cell_type": "code",
   "execution_count": null,
   "metadata": {},
   "outputs": [],
   "source": [
    "## Selecting Rows from a DataFrame with a DateTimeIndex\n",
    "# The iloc accessor is available for index-postion based extarction\n",
    "# The loc accessor accepts strings or Timestamps to extarct by index label/value. Note that Python's datetime objects will not work\n",
    "# Using list slicing to extarct a sequence of dates. The trunate method si another alternative.\n",
    "\n",
    "#pd.read_csv(\"ibm.csv\") -> cols: Date, Open, High, Low, Close, Volume . But it will take Date as string\n",
    "#pd.read_csv(\"ibm.csv\", parse_dates=[\"Date\"]) \n",
    "#pd.read_csv(\"ibm.csv\", parse_dates=[\"Date\"]).dtypes -> we can confirm  the datatype by dtypes command\n",
    "#stocks = pd.read_csv(\"ibm.csv\", parse_dates=[\"Date\"], index_cols=\"Date\").sort_index()\n",
    "\n",
    "#stocks.loc[\"2014-03-04\"]\n",
    "#stocsk.loc[pd.Timestamp(2014, 3, 4)] # same as above\n",
    "#stocks.loc[\"2014-03-04\":\"2014-12-31\"] #date whose date is from range mentioned\n",
    "#stocsk.loc[pd.Timestamp(2014, 3, 4): pd.Timestamp(2014, 12, 31)] # same as above\n",
    "#stocks.truncate(\"2014-03-04\", \"2014-12-31\") #same as above 2\n",
    "#stocks.loc[\"2014-03-04\", \"High\":\"Close\"] # from column \"High\" to column \"Close\", for row (of date) 2014-03-04 \n",
    "#stocks.loc[pd.Timestamp(2014, 3, 4), \"High\":\"Close\"] #same as above\n"
   ]
  }
 ],
 "metadata": {
  "kernelspec": {
   "display_name": "Python 3",
   "language": "python",
   "name": "python3"
  },
  "language_info": {
   "codemirror_mode": {
    "name": "ipython",
    "version": 3
   },
   "file_extension": ".py",
   "mimetype": "text/x-python",
   "name": "python",
   "nbconvert_exporter": "python",
   "pygments_lexer": "ipython3",
   "version": "3.9.6"
  }
 },
 "nbformat": 4,
 "nbformat_minor": 2
}
