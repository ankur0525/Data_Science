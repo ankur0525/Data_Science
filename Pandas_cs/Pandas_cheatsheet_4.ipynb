{
 "cells": [
  {
   "cell_type": "code",
   "execution_count": 1,
   "metadata": {},
   "outputs": [],
   "source": [
    "import pandas as pd"
   ]
  },
  {
   "cell_type": "code",
   "execution_count": null,
   "metadata": {},
   "outputs": [],
   "source": [
    "##Working with text data\n",
    "#chicago = pd.read_csv(\"chicago.csv\")\n",
    "#chicago.info()\n",
    "#chicago.nuique()\n",
    "#chicago[\"Department\"] = chicago[\"Department\"].astype(\"category\")\n",
    "\n",
    "##Common String methods\n",
    "# A series has a special str attribute that exposes an object with string methods\n",
    "# Access the str attribute, then invokes the string method on the nested object\n",
    "# Most method names will match their python equivalents(upper,lower,title,strip,lstrip,rstrip,etc.)\n",
    "\n",
    "#chicago[\"Position Title\"].str.lower() -> method is .str.method_name()\n",
    "#chicago[\"Position title\"].str.len() -> this is a brnad new series now\n",
    "#chicago[\"Position title\"].str.title().len() -> does not work\n",
    "#chicago[\"Position Title\"].str.title().strr.len() -> this will work\n",
    "#chicago[\"Department\"].str.replace[\"MGMT\", \"MANAGEMENT\"].str.title()\n",
    "\n",
    "##Filtering with String Methods\n",
    "# the str.contains methods checks whether a substring exists anywhere in the string\n",
    "# the str.startswith method checks whether a substring exists at the start of the string\n",
    "# the str.endswith method checks whether a substring exists at the end of the string\n",
    "\n",
    "#water_workers = chicago[\"Position Title\"].str.lower().str.contains(\"water\")\n",
    "#chicago[water_workers]\n",
    "#water_workers = chicago[\"Position Title\"].str.lower().str.startswith(\"water\")\n",
    "#water_workers = chicago[\"Position Title\"].str.lower().str.endswith(\"ter\")\n",
    "\n",
    "##String methods on Index and Columns\n",
    "# Use the index and columns attributes to access the dataframe index/column labels\n",
    "# These objects support string methods via their own str attributes\n",
    "\n",
    "#chicago = pd.read_csv(\"chicago.csv\", index_col = \"Name\").dropna(how=\"all\").sort_index()\n",
    "#chicago[\"Department\"] = chicago[\"Department\"].astype(\"category\")\n",
    "#type(chicago.index)\n",
    "#chicago.index = chicago.index.str.strip().title()\n",
    "#chicago.columns = chicago.columns.str.upper()\n",
    "\n",
    "##Split method\n",
    "# splits a string by the occurence of delimiter. pds return a series of a list\n",
    "# str.get method to access a nested element by its index position\n",
    "\n",
    "#Task: the most common 1st word\n",
    "#chicago[\"Position Title\"].str.split(\" \").str.get(0).value_counts()\n",
    "\n",
    "#tasK; Finding the most common 1st name from Name column (example:- SHRIVASTAVA, ANKUR ; Moneky, Luffy D )\n",
    "#chicago[\"Name\"].str.title().str.split(\", \").str.get(1).str.strip().str.split(\" \").str.get(0).value_counts()\n",
    "\n",
    "##Expand and n parameters of the split method\n",
    "# the expand parameters returns a DataFrame instead of a Series of lists\n",
    "# The n parameter limits the no. of splits\n",
    "\n",
    "#chicago[\"Name\"].str.split(\",\",expand=True) -> this will split the data,not as series but as DF, that means there will be columns after the split;Ex- Shri, Ankur will be splitted as Shri(column1)  Ankur(column2)\n",
    "#chicgao[[\"last\", \"1st name\"]] = chicago[\"Name\"].str.split(\",\",expand=True)  -> as there are 2 columns in which it is splitted, we need to provide a list with 2 elements to add those elements\n",
    "#chicago[[\"Primary Title\", \"Secondary Title\"]] = chicago[\"Position Title\"].str.split(\" \", expand=True, n=1) -> n decides how many times it is going to split. Ex n=3 => there will be 4 elemensts(ankur is a good boy but stupid) -> ankur(col1) is(col2) a(col3) good boy but stupid(col4) \n",
    "\n",
    "\n",
    "\n"
   ]
  }
 ],
 "metadata": {
  "kernelspec": {
   "display_name": "Python 3",
   "language": "python",
   "name": "python3"
  },
  "language_info": {
   "codemirror_mode": {
    "name": "ipython",
    "version": 3
   },
   "file_extension": ".py",
   "mimetype": "text/x-python",
   "name": "python",
   "nbconvert_exporter": "python",
   "pygments_lexer": "ipython3",
   "version": "3.9.6"
  }
 },
 "nbformat": 4,
 "nbformat_minor": 2
}
