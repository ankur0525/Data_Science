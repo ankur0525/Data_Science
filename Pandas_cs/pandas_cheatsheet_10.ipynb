{
 "cells": [
  {
   "cell_type": "code",
   "execution_count": 1,
   "metadata": {},
   "outputs": [],
   "source": [
    "import pandas as pd\n",
    "import matplotlib.pyplot as plt"
   ]
  },
  {
   "cell_type": "code",
   "execution_count": null,
   "metadata": {},
   "outputs": [],
   "source": [
    "\n",
    "###Data Visualisation\n",
    "\n",
    "## The plot method\n",
    "# Default the plot method renders a line chart, which is ideal fro shwoing trends over time\n",
    "# The plot metgod includes all numeric DataFrame columns by default. We can choose a subset with y parameter\n",
    "# Matplotlib wull use the index values for the x-axis and the vlaues for y-axis\n",
    "# Matplotlib will figure out reasonalbe intervals for the date index (days, months, years, etc.). These options are all customizable\n",
    "\n",
    "#ibm = pd.read_csv(\"ibm.csv\", parse_dates=[\"Date\"], index_col = \"Date\") -> cols: Date, Open, High, Low, Close, Volume\n",
    "#ibm.plot() -> draw a plot for Date as x-axis and rest of the cols in y-axis\n",
    "#ibm.plot(y=\"Close\") -> draw a plot for Date as x-axis and \"Close\" in y-axis\n",
    "#ibm[\"Close\"].plot() -> same as above\n",
    "\n",
    "## Modifying plot aesthetics with Templates\n",
    "# The plt.style.available attribute returns a list of availabale styles\n",
    "# Use the plt.style.use method and pass in a sample style string\n",
    "# The next charts/graphs you rende will implemet that style\n",
    "\n",
    "#plt.style.available -> it will show pre-configured visula asethetics available\n",
    "#plt.style.use(\"fivethirtyeight\")\n",
    "#ibm.plot(y=\"Close\")\n",
    "\n",
    "#plt.style.use(\"dark_background\")\n",
    "#ibm.plot(y=\"Close\")"
   ]
  },
  {
   "cell_type": "code",
   "execution_count": null,
   "metadata": {},
   "outputs": [],
   "source": [
    "##Bar Charts\n",
    "# Used to represent occurences of values/categories\n",
    "# We can customize the type of plot that matplotlib renders with the kind parameter\n",
    "# Pass bar for a bar graph and barh for a horizontal bar graph\n",
    "\n",
    "#ibm = pd.read_csv(\"ibm.csv\", parse_dates=[\"Date\"], index_col = \"Date\") -> cols: Date, Open, High, Low, Close, Volume\n",
    "def rank_performance(stock_price):\n",
    "    if stock_price <= 50:\n",
    "        return \"Poor\"\n",
    "    elif stock_price > 50 and stock_price <= 100:\n",
    "        return \"Satisfactory\"\n",
    "    else:\n",
    "        return \"Excellent\"\n",
    "\n",
    "#ibm[\"Close\"].apply(rank_performance).value_counts().plot() -> but this plot is not giving good insight\n",
    "#ibm[\"Close\"].apply(rank_performance).value_counts().plot(kind=\"bar\") -> when comparing count, bar grpah is better\n",
    "#ibm[\"Close\"].apply(rank_performance).value_counts().plot(kind=\"barh\") -> horizontal bar graph\n",
    "\n",
    "##Pie Charts\n",
    "# Uses circel to represent proportions(how much each chunk contributes to the whole)\n",
    "# Pass \"pie \" fo kind parameter\n",
    "# The legend paramter rendersa legend to map colors to labels\n",
    "\n",
    "#ibm[\"Close\"].apply(rank_performance).value_counts().plot(kind=\"pie\", legend=True) "
   ]
  },
  {
   "cell_type": "code",
   "execution_count": null,
   "metadata": {},
   "outputs": [],
   "source": [
    "\n"
   ]
  }
 ],
 "metadata": {
  "kernelspec": {
   "display_name": "Python 3",
   "language": "python",
   "name": "python3"
  },
  "language_info": {
   "codemirror_mode": {
    "name": "ipython",
    "version": 3
   },
   "file_extension": ".py",
   "mimetype": "text/x-python",
   "name": "python",
   "nbconvert_exporter": "python",
   "pygments_lexer": "ipython3",
   "version": "3.9.6"
  }
 },
 "nbformat": 4,
 "nbformat_minor": 2
}
